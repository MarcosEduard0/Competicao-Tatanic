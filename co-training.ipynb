{
 "cells": [
  {
   "cell_type": "code",
   "execution_count": 14,
   "metadata": {},
   "outputs": [],
   "source": [
    "import pandas as pd\n",
    "from sklearn.tree import DecisionTreeClassifier\n",
    "from sklearn.model_selection import train_test_split\n",
    "import numpy as np"
   ]
  },
  {
   "cell_type": "code",
   "execution_count": 15,
   "metadata": {},
   "outputs": [],
   "source": [
    "# Carregando o conjunto de dados do Titanic\n",
    "data = pd.read_csv('train.csv')"
   ]
  },
  {
   "cell_type": "code",
   "execution_count": 16,
   "metadata": {},
   "outputs": [],
   "source": [
    "# Extraindo as letras do conves e transformando em números\n",
    "data['Cabin'] = data['Cabin'].str.extract(r'([a-gA-G]+)')\n",
    "\n",
    "# Preenchendo idede ausente\n",
    "data.loc[data.Age.isnull(), 'Age'] = data.Age.mean()\n",
    "\n",
    "\n",
    "# Convertendo categorio em numerico\n",
    "data['Sex'] = data.Sex.apply(lambda x: 0 if x == 'male' else 1).astype(int)"
   ]
  },
  {
   "cell_type": "code",
   "execution_count": 17,
   "metadata": {},
   "outputs": [],
   "source": [
    "# Dividindo os dados em um conjunto rotulado e outro não rotulado\n",
    "labeled_data = data[data['Cabin'].notnull()]\n",
    "unlabeled_data = data[data['Cabin'].isnull()]"
   ]
  },
  {
   "cell_type": "code",
   "execution_count": 18,
   "metadata": {},
   "outputs": [],
   "source": [
    "# Selecionando as colunas relevantes para treinamento\n",
    "feature_columns = ['Pclass', 'Sex', 'Age', 'Fare']\n",
    "X_labeled = labeled_data[feature_columns]\n",
    "y_labeled = labeled_data['Cabin']\n",
    "X_unlabeled = unlabeled_data[feature_columns]"
   ]
  },
  {
   "cell_type": "code",
   "execution_count": 19,
   "metadata": {},
   "outputs": [],
   "source": [
    "# Dividindo o conjunto rotulado em treinamento e validação\n",
    "X_train, X_val, y_train, y_val = train_test_split(X_labeled, y_labeled, test_size=0.2, random_state=42)\n",
    "\n",
    "# Criando dois modelos de árvore de decisão com diferentes conjuntos de características\n",
    "model_1 = DecisionTreeClassifier(random_state=42)\n",
    "model_2 = DecisionTreeClassifier(random_state=42)"
   ]
  },
  {
   "cell_type": "code",
   "execution_count": 20,
   "metadata": {},
   "outputs": [],
   "source": [
    "# Treinando os modelos nos dados rotulados\n",
    "model_1.fit(X_train, y_train)\n",
    "model_2.fit(X_train[['Pclass', 'Sex']], y_train)  # Usamos duas características específicas como exemplo\n",
    "\n",
    "# Classificando os dados não rotulados e selecionando os mais confiantes\n",
    "unlabeled_predictions_1 = model_1.predict(X_unlabeled)\n",
    "unlabeled_predictions_2 = model_2.predict(X_unlabeled[['Pclass', 'Sex']])"
   ]
  },
  {
   "cell_type": "code",
   "execution_count": 21,
   "metadata": {},
   "outputs": [],
   "source": [
    "confident_indices_1 = np.where(unlabeled_predictions_1 == unlabeled_predictions_2)[0]\n",
    "confident_unlabeled_data = X_unlabeled.iloc[confident_indices_1]"
   ]
  },
  {
   "cell_type": "code",
   "execution_count": 22,
   "metadata": {},
   "outputs": [
    {
     "data": {
      "text/html": [
       "<style>#sk-container-id-2 {color: black;background-color: white;}#sk-container-id-2 pre{padding: 0;}#sk-container-id-2 div.sk-toggleable {background-color: white;}#sk-container-id-2 label.sk-toggleable__label {cursor: pointer;display: block;width: 100%;margin-bottom: 0;padding: 0.3em;box-sizing: border-box;text-align: center;}#sk-container-id-2 label.sk-toggleable__label-arrow:before {content: \"▸\";float: left;margin-right: 0.25em;color: #696969;}#sk-container-id-2 label.sk-toggleable__label-arrow:hover:before {color: black;}#sk-container-id-2 div.sk-estimator:hover label.sk-toggleable__label-arrow:before {color: black;}#sk-container-id-2 div.sk-toggleable__content {max-height: 0;max-width: 0;overflow: hidden;text-align: left;background-color: #f0f8ff;}#sk-container-id-2 div.sk-toggleable__content pre {margin: 0.2em;color: black;border-radius: 0.25em;background-color: #f0f8ff;}#sk-container-id-2 input.sk-toggleable__control:checked~div.sk-toggleable__content {max-height: 200px;max-width: 100%;overflow: auto;}#sk-container-id-2 input.sk-toggleable__control:checked~label.sk-toggleable__label-arrow:before {content: \"▾\";}#sk-container-id-2 div.sk-estimator input.sk-toggleable__control:checked~label.sk-toggleable__label {background-color: #d4ebff;}#sk-container-id-2 div.sk-label input.sk-toggleable__control:checked~label.sk-toggleable__label {background-color: #d4ebff;}#sk-container-id-2 input.sk-hidden--visually {border: 0;clip: rect(1px 1px 1px 1px);clip: rect(1px, 1px, 1px, 1px);height: 1px;margin: -1px;overflow: hidden;padding: 0;position: absolute;width: 1px;}#sk-container-id-2 div.sk-estimator {font-family: monospace;background-color: #f0f8ff;border: 1px dotted black;border-radius: 0.25em;box-sizing: border-box;margin-bottom: 0.5em;}#sk-container-id-2 div.sk-estimator:hover {background-color: #d4ebff;}#sk-container-id-2 div.sk-parallel-item::after {content: \"\";width: 100%;border-bottom: 1px solid gray;flex-grow: 1;}#sk-container-id-2 div.sk-label:hover label.sk-toggleable__label {background-color: #d4ebff;}#sk-container-id-2 div.sk-serial::before {content: \"\";position: absolute;border-left: 1px solid gray;box-sizing: border-box;top: 0;bottom: 0;left: 50%;z-index: 0;}#sk-container-id-2 div.sk-serial {display: flex;flex-direction: column;align-items: center;background-color: white;padding-right: 0.2em;padding-left: 0.2em;position: relative;}#sk-container-id-2 div.sk-item {position: relative;z-index: 1;}#sk-container-id-2 div.sk-parallel {display: flex;align-items: stretch;justify-content: center;background-color: white;position: relative;}#sk-container-id-2 div.sk-item::before, #sk-container-id-2 div.sk-parallel-item::before {content: \"\";position: absolute;border-left: 1px solid gray;box-sizing: border-box;top: 0;bottom: 0;left: 50%;z-index: -1;}#sk-container-id-2 div.sk-parallel-item {display: flex;flex-direction: column;z-index: 1;position: relative;background-color: white;}#sk-container-id-2 div.sk-parallel-item:first-child::after {align-self: flex-end;width: 50%;}#sk-container-id-2 div.sk-parallel-item:last-child::after {align-self: flex-start;width: 50%;}#sk-container-id-2 div.sk-parallel-item:only-child::after {width: 0;}#sk-container-id-2 div.sk-dashed-wrapped {border: 1px dashed gray;margin: 0 0.4em 0.5em 0.4em;box-sizing: border-box;padding-bottom: 0.4em;background-color: white;}#sk-container-id-2 div.sk-label label {font-family: monospace;font-weight: bold;display: inline-block;line-height: 1.2em;}#sk-container-id-2 div.sk-label-container {text-align: center;}#sk-container-id-2 div.sk-container {/* jupyter's `normalize.less` sets `[hidden] { display: none; }` but bootstrap.min.css set `[hidden] { display: none !important; }` so we also need the `!important` here to be able to override the default hidden behavior on the sphinx rendered scikit-learn.org. See: https://github.com/scikit-learn/scikit-learn/issues/21755 */display: inline-block !important;position: relative;}#sk-container-id-2 div.sk-text-repr-fallback {display: none;}</style><div id=\"sk-container-id-2\" class=\"sk-top-container\"><div class=\"sk-text-repr-fallback\"><pre>DecisionTreeClassifier(random_state=42)</pre><b>In a Jupyter environment, please rerun this cell to show the HTML representation or trust the notebook. <br />On GitHub, the HTML representation is unable to render, please try loading this page with nbviewer.org.</b></div><div class=\"sk-container\" hidden><div class=\"sk-item\"><div class=\"sk-estimator sk-toggleable\"><input class=\"sk-toggleable__control sk-hidden--visually\" id=\"sk-estimator-id-2\" type=\"checkbox\" checked><label for=\"sk-estimator-id-2\" class=\"sk-toggleable__label sk-toggleable__label-arrow\">DecisionTreeClassifier</label><div class=\"sk-toggleable__content\"><pre>DecisionTreeClassifier(random_state=42)</pre></div></div></div></div></div>"
      ],
      "text/plain": [
       "DecisionTreeClassifier(random_state=42)"
      ]
     },
     "execution_count": 22,
     "metadata": {},
     "output_type": "execute_result"
    }
   ],
   "source": [
    "# Adicionando os exemplos mais confiantes ao conjunto rotulado e treinando novamente os modelos\n",
    "X_train = pd.concat([X_train, confident_unlabeled_data])\n",
    "y_train = pd.concat([y_train, pd.Series(unlabeled_predictions_1[confident_indices_1])])\n",
    "\n",
    "model_1.fit(X_train, y_train)\n",
    "model_2.fit(X_train[['Pclass', 'Sex']], y_train)  # Usamos as mesmas características selecionadas anteriormente"
   ]
  },
  {
   "cell_type": "code",
   "execution_count": 23,
   "metadata": {},
   "outputs": [],
   "source": [
    "# Agora podemos usar os modelos treinados para fazer previsões em novos dados\n",
    "teste_filtrado = pd.read_csv('teste_filtrado.csv')\n",
    "treino_filtrado = pd.read_csv('treino_filtrado.csv')\n",
    "\n",
    "treino_filtrado['Sex'] = treino_filtrado.Sex.apply(lambda x: 0 if x == 'male' else 1).astype(int)\n",
    "teste_filtrado['Sex'] = teste_filtrado.Sex.apply(lambda x: 0 if x == 'male' else 1).astype(int)\n",
    "\n",
    "treino_predictions_1 = model_1.predict(treino_filtrado[feature_columns])\n",
    "treino_predictions_2 = model_2.predict(treino_filtrado[['Pclass', 'Sex']])\n",
    "\n",
    "teste_predictions_1 = model_1.predict(teste_filtrado[feature_columns])\n",
    "teste_predictions_2 = model_2.predict(teste_filtrado[['Pclass', 'Sex']])\n",
    "\n",
    "\n",
    "# print(\"Modelo 1 previu as classes:\", predictions_1)\n",
    "# print(\"Modelo 2 previu as classes:\", predictions_2)\n"
   ]
  },
  {
   "cell_type": "code",
   "execution_count": 24,
   "metadata": {},
   "outputs": [],
   "source": [
    "teste_filtrado['Cabin'] = teste_predictions_1\n",
    "treino_filtrado['Cabin'] = treino_predictions_1"
   ]
  },
  {
   "cell_type": "code",
   "execution_count": 25,
   "metadata": {},
   "outputs": [],
   "source": [
    "teste_filtrado.to_csv('teste_filtrado.csv', index=False)\n",
    "treino_filtrado.to_csv('treino_filtrado.csv', index=False)"
   ]
  }
 ],
 "metadata": {
  "kernelspec": {
   "display_name": "Python 3",
   "language": "python",
   "name": "python3"
  },
  "language_info": {
   "codemirror_mode": {
    "name": "ipython",
    "version": 3
   },
   "file_extension": ".py",
   "mimetype": "text/x-python",
   "name": "python",
   "nbconvert_exporter": "python",
   "pygments_lexer": "ipython3",
   "version": "3.9.4"
  },
  "orig_nbformat": 4
 },
 "nbformat": 4,
 "nbformat_minor": 2
}
