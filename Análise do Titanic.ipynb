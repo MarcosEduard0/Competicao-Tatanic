{
 "cells": [
  {
   "cell_type": "markdown",
   "id": "63baa6ef",
   "metadata": {},
   "source": [
    "# Titanic - Desafio de Aprendizado de Máquina\n",
    "\n",
    "<p align=\"center\">\n",
    "  <img src=\"https://sigmoidal.ai/wp-content/uploads/2022/06/titanic.jpg\" alt=\"Titanic\">\n",
    "</p>\n",
    "\n",
    "A tragédia do Titanic, ocorrida em abril de 1912, permanece como um dos eventos mais icônicos e trágicos da história da humanidade. Esse desastre marítimo não apenas tirou a vida de mais de 1.500 pessoas, mas também destacou questões cruciais relacionadas à engenharia naval, política de segurança marítima e desigualdade social. Neste notebook de análise, examinaremos profundamente os diversos aspectos que envolvem o naufrágio do Titanic, desde as circunstâncias que levaram ao acidente até o legado duradouro que deixou no mundo. Utilizando dados históricos, testemunhos de sobreviventes e insights de especialistas, nossa análise visa lançar luz sobre as lições aprendidas a partir deste trágico evento e como ele continua a moldar a sociedade e as indústrias até os dias atuais."
   ]
  },
  {
   "cell_type": "code",
   "execution_count": 561,
   "id": "ca06f81f",
   "metadata": {},
   "outputs": [],
   "source": [
    "# Processamento de dados\n",
    "import pandas as pd\n",
    "\n",
    "# Algebra linear\n",
    "import numpy as np\n",
    "\n",
    "# Algoritmos\n",
    "from sklearn.preprocessing import LabelEncoder\n",
    "from sklearn.ensemble import RandomForestClassifier\n",
    "from sklearn.linear_model import LogisticRegression, Perceptron\n",
    "from sklearn.ensemble import GradientBoostingClassifier\n",
    "from sklearn.tree import DecisionTreeClassifier\n",
    "from xgboost import XGBClassifier\n",
    "\n",
    "# Avaliações\n",
    "from sklearn.model_selection import train_test_split, StratifiedKFold, cross_val_score, GridSearchCV\n",
    "from sklearn.metrics import confusion_matrix, accuracy_score\n",
    "\n",
    "# Vizualização de dados\n",
    "import warnings\n",
    "import matplotlib.pyplot as plt\n",
    "import seaborn as sns\n",
    "\n",
    "plt.style.use('fivethirtyeight')\n",
    "warnings.simplefilter(\"ignore\")"
   ]
  },
  {
   "cell_type": "code",
   "execution_count": 562,
   "id": "3340d81a",
   "metadata": {},
   "outputs": [
    {
     "name": "stdout",
     "output_type": "stream",
     "text": [
      "Total de linhas: 891\n",
      "Total de colunas: 12\n"
     ]
    },
    {
     "data": {
      "text/html": [
       "<div>\n",
       "<style scoped>\n",
       "    .dataframe tbody tr th:only-of-type {\n",
       "        vertical-align: middle;\n",
       "    }\n",
       "\n",
       "    .dataframe tbody tr th {\n",
       "        vertical-align: top;\n",
       "    }\n",
       "\n",
       "    .dataframe thead th {\n",
       "        text-align: right;\n",
       "    }\n",
       "</style>\n",
       "<table border=\"1\" class=\"dataframe\">\n",
       "  <thead>\n",
       "    <tr style=\"text-align: right;\">\n",
       "      <th></th>\n",
       "      <th>PassengerId</th>\n",
       "      <th>Survived</th>\n",
       "      <th>Pclass</th>\n",
       "      <th>Name</th>\n",
       "      <th>Sex</th>\n",
       "      <th>Age</th>\n",
       "      <th>SibSp</th>\n",
       "      <th>Parch</th>\n",
       "      <th>Ticket</th>\n",
       "      <th>Fare</th>\n",
       "      <th>Cabin</th>\n",
       "      <th>Embarked</th>\n",
       "    </tr>\n",
       "  </thead>\n",
       "  <tbody>\n",
       "    <tr>\n",
       "      <th>0</th>\n",
       "      <td>1</td>\n",
       "      <td>0</td>\n",
       "      <td>3</td>\n",
       "      <td>Braund, Mr. Owen Harris</td>\n",
       "      <td>male</td>\n",
       "      <td>22.0</td>\n",
       "      <td>1</td>\n",
       "      <td>0</td>\n",
       "      <td>A/5 21171</td>\n",
       "      <td>7.2500</td>\n",
       "      <td>NaN</td>\n",
       "      <td>S</td>\n",
       "    </tr>\n",
       "    <tr>\n",
       "      <th>1</th>\n",
       "      <td>2</td>\n",
       "      <td>1</td>\n",
       "      <td>1</td>\n",
       "      <td>Cumings, Mrs. John Bradley (Florence Briggs Th...</td>\n",
       "      <td>female</td>\n",
       "      <td>38.0</td>\n",
       "      <td>1</td>\n",
       "      <td>0</td>\n",
       "      <td>PC 17599</td>\n",
       "      <td>71.2833</td>\n",
       "      <td>C85</td>\n",
       "      <td>C</td>\n",
       "    </tr>\n",
       "    <tr>\n",
       "      <th>2</th>\n",
       "      <td>3</td>\n",
       "      <td>1</td>\n",
       "      <td>3</td>\n",
       "      <td>Heikkinen, Miss. Laina</td>\n",
       "      <td>female</td>\n",
       "      <td>26.0</td>\n",
       "      <td>0</td>\n",
       "      <td>0</td>\n",
       "      <td>STON/O2. 3101282</td>\n",
       "      <td>7.9250</td>\n",
       "      <td>NaN</td>\n",
       "      <td>S</td>\n",
       "    </tr>\n",
       "  </tbody>\n",
       "</table>\n",
       "</div>"
      ],
      "text/plain": [
       "   PassengerId  Survived  Pclass  \\\n",
       "0            1         0       3   \n",
       "1            2         1       1   \n",
       "2            3         1       3   \n",
       "\n",
       "                                                Name     Sex   Age  SibSp  \\\n",
       "0                            Braund, Mr. Owen Harris    male  22.0      1   \n",
       "1  Cumings, Mrs. John Bradley (Florence Briggs Th...  female  38.0      1   \n",
       "2                             Heikkinen, Miss. Laina  female  26.0      0   \n",
       "\n",
       "   Parch            Ticket     Fare Cabin Embarked  \n",
       "0      0         A/5 21171   7.2500   NaN        S  \n",
       "1      0          PC 17599  71.2833   C85        C  \n",
       "2      0  STON/O2. 3101282   7.9250   NaN        S  "
      ]
     },
     "execution_count": 562,
     "metadata": {},
     "output_type": "execute_result"
    }
   ],
   "source": [
    "# Visualizando a base de treino\n",
    "treino = pd.read_csv('train.csv')\n",
    "rows, cols = treino.shape\n",
    "print(f'Total de linhas: {rows}\\nTotal de colunas: {cols}')\n",
    "treino.head(3)"
   ]
  },
  {
   "cell_type": "markdown",
   "id": "f3be84d2",
   "metadata": {},
   "source": [
    "- **Base de treino**"
   ]
  },
  {
   "cell_type": "code",
   "execution_count": 563,
   "id": "bc6de0a9",
   "metadata": {},
   "outputs": [
    {
     "name": "stdout",
     "output_type": "stream",
     "text": [
      "<class 'pandas.core.frame.DataFrame'>\n",
      "RangeIndex: 891 entries, 0 to 890\n",
      "Data columns (total 12 columns):\n",
      " #   Column       Non-Null Count  Dtype  \n",
      "---  ------       --------------  -----  \n",
      " 0   PassengerId  891 non-null    int64  \n",
      " 1   Survived     891 non-null    int64  \n",
      " 2   Pclass       891 non-null    int64  \n",
      " 3   Name         891 non-null    object \n",
      " 4   Sex          891 non-null    object \n",
      " 5   Age          714 non-null    float64\n",
      " 6   SibSp        891 non-null    int64  \n",
      " 7   Parch        891 non-null    int64  \n",
      " 8   Ticket       891 non-null    object \n",
      " 9   Fare         891 non-null    float64\n",
      " 10  Cabin        204 non-null    object \n",
      " 11  Embarked     889 non-null    object \n",
      "dtypes: float64(2), int64(5), object(5)\n",
      "memory usage: 83.7+ KB\n"
     ]
    }
   ],
   "source": [
    "# Verificando as informações da base\n",
    "treino.info()"
   ]
  },
  {
   "cell_type": "markdown",
   "id": "ba8bc938",
   "metadata": {},
   "source": [
    "O conjunto de treinamento possui 891 registros e 11 características + a variável alvo (Survived). 2 dos recursos são floats (reais), 5 são inteiros e 5 são objetos. Abaixo, listei os recursos com uma breve descrição:"
   ]
  },
  {
   "cell_type": "markdown",
   "id": "f23e15e8",
   "metadata": {},
   "source": [
    "**Dicionário**\n",
    "\n",
    "| Variável | Definição                                | Chave                                          |\n",
    "| -------- | ---------------------------------------- | ---------------------------------------------- |\n",
    "| survival | Sobrevivel                               | 0 = Não, 1 = Sim                               |\n",
    "| pclass   | Classe do bilhete                        | 1 = 1º Classe, 2 = 2º Classe, 3 = 3º Classe    |\n",
    "| name     | Nome do passageiro                       |                                                |\n",
    "| sex      | Sexo                                     |                                                |\n",
    "| Age      | Idade em anos                            |                                                |\n",
    "| sibsp    | Nº de irmãos/cônjuges a bordo            |                                                |\n",
    "| parch    | Nº de pais/filhos a bordo                |                                                |\n",
    "| ticket   | Número do bilhete                        |                                                |\n",
    "| fare     | Valor da passagem                        |                                                |\n",
    "| cabin    | Número de cabine                         |                                                |\n",
    "| embarked | Porto de embarque                        | C = Cherbourg, Q = Queenstown, S = Southampton |"
   ]
  },
  {
   "cell_type": "code",
   "execution_count": 564,
   "id": "a4b8eff2",
   "metadata": {},
   "outputs": [
    {
     "data": {
      "text/html": [
       "<div>\n",
       "<style scoped>\n",
       "    .dataframe tbody tr th:only-of-type {\n",
       "        vertical-align: middle;\n",
       "    }\n",
       "\n",
       "    .dataframe tbody tr th {\n",
       "        vertical-align: top;\n",
       "    }\n",
       "\n",
       "    .dataframe thead th {\n",
       "        text-align: right;\n",
       "    }\n",
       "</style>\n",
       "<table border=\"1\" class=\"dataframe\">\n",
       "  <thead>\n",
       "    <tr style=\"text-align: right;\">\n",
       "      <th></th>\n",
       "      <th>count</th>\n",
       "      <th>mean</th>\n",
       "      <th>std</th>\n",
       "      <th>min</th>\n",
       "      <th>25%</th>\n",
       "      <th>50%</th>\n",
       "      <th>75%</th>\n",
       "      <th>max</th>\n",
       "    </tr>\n",
       "  </thead>\n",
       "  <tbody>\n",
       "    <tr>\n",
       "      <th>PassengerId</th>\n",
       "      <td>891.0</td>\n",
       "      <td>446.000000</td>\n",
       "      <td>257.353842</td>\n",
       "      <td>1.00</td>\n",
       "      <td>223.5000</td>\n",
       "      <td>446.0000</td>\n",
       "      <td>668.5</td>\n",
       "      <td>891.0000</td>\n",
       "    </tr>\n",
       "    <tr>\n",
       "      <th>Survived</th>\n",
       "      <td>891.0</td>\n",
       "      <td>0.383838</td>\n",
       "      <td>0.486592</td>\n",
       "      <td>0.00</td>\n",
       "      <td>0.0000</td>\n",
       "      <td>0.0000</td>\n",
       "      <td>1.0</td>\n",
       "      <td>1.0000</td>\n",
       "    </tr>\n",
       "    <tr>\n",
       "      <th>Pclass</th>\n",
       "      <td>891.0</td>\n",
       "      <td>2.308642</td>\n",
       "      <td>0.836071</td>\n",
       "      <td>1.00</td>\n",
       "      <td>2.0000</td>\n",
       "      <td>3.0000</td>\n",
       "      <td>3.0</td>\n",
       "      <td>3.0000</td>\n",
       "    </tr>\n",
       "    <tr>\n",
       "      <th>Age</th>\n",
       "      <td>714.0</td>\n",
       "      <td>29.699118</td>\n",
       "      <td>14.526497</td>\n",
       "      <td>0.42</td>\n",
       "      <td>20.1250</td>\n",
       "      <td>28.0000</td>\n",
       "      <td>38.0</td>\n",
       "      <td>80.0000</td>\n",
       "    </tr>\n",
       "    <tr>\n",
       "      <th>SibSp</th>\n",
       "      <td>891.0</td>\n",
       "      <td>0.523008</td>\n",
       "      <td>1.102743</td>\n",
       "      <td>0.00</td>\n",
       "      <td>0.0000</td>\n",
       "      <td>0.0000</td>\n",
       "      <td>1.0</td>\n",
       "      <td>8.0000</td>\n",
       "    </tr>\n",
       "    <tr>\n",
       "      <th>Parch</th>\n",
       "      <td>891.0</td>\n",
       "      <td>0.381594</td>\n",
       "      <td>0.806057</td>\n",
       "      <td>0.00</td>\n",
       "      <td>0.0000</td>\n",
       "      <td>0.0000</td>\n",
       "      <td>0.0</td>\n",
       "      <td>6.0000</td>\n",
       "    </tr>\n",
       "    <tr>\n",
       "      <th>Fare</th>\n",
       "      <td>891.0</td>\n",
       "      <td>32.204208</td>\n",
       "      <td>49.693429</td>\n",
       "      <td>0.00</td>\n",
       "      <td>7.9104</td>\n",
       "      <td>14.4542</td>\n",
       "      <td>31.0</td>\n",
       "      <td>512.3292</td>\n",
       "    </tr>\n",
       "  </tbody>\n",
       "</table>\n",
       "</div>"
      ],
      "text/plain": [
       "             count        mean         std   min       25%       50%    75%  \\\n",
       "PassengerId  891.0  446.000000  257.353842  1.00  223.5000  446.0000  668.5   \n",
       "Survived     891.0    0.383838    0.486592  0.00    0.0000    0.0000    1.0   \n",
       "Pclass       891.0    2.308642    0.836071  1.00    2.0000    3.0000    3.0   \n",
       "Age          714.0   29.699118   14.526497  0.42   20.1250   28.0000   38.0   \n",
       "SibSp        891.0    0.523008    1.102743  0.00    0.0000    0.0000    1.0   \n",
       "Parch        891.0    0.381594    0.806057  0.00    0.0000    0.0000    0.0   \n",
       "Fare         891.0   32.204208   49.693429  0.00    7.9104   14.4542   31.0   \n",
       "\n",
       "                  max  \n",
       "PassengerId  891.0000  \n",
       "Survived       1.0000  \n",
       "Pclass         3.0000  \n",
       "Age           80.0000  \n",
       "SibSp          8.0000  \n",
       "Parch          6.0000  \n",
       "Fare         512.3292  "
      ]
     },
     "execution_count": 564,
     "metadata": {},
     "output_type": "execute_result"
    }
   ],
   "source": [
    "# analisando dados estatísticos\n",
    "treino.describe().T"
   ]
  },
  {
   "cell_type": "markdown",
   "id": "b1d05e9a",
   "metadata": {},
   "source": [
    "Temos uma média de idade em torno de 29 anos, sendo o máximo com 80 anos. Para a época de 1912, a expectativa de vida era entre 50 a 60 anos. É assustador quando comparamos com a idade que nossos avós alcançam hoje em dia. Se olharmos para a expectativa de vida no Brasil naquela época, era de apenas 33,7 anos. Realmente impressionante! \n",
    "\n",
    "Além disso, podemos ver que 38% do conjunto de treinamento sobreviveram a trajédia."
   ]
  },
  {
   "cell_type": "markdown",
   "id": "3ad2878e",
   "metadata": {},
   "source": [
    "O atributo Fare (passagem) está estranho, com uma média de 32,20 e uma mediana de 14,45. Os valores estão um pouco distorcidos. E temos passageiros que estão com valor da passagem zerados."
   ]
  },
  {
   "cell_type": "code",
   "execution_count": 565,
   "id": "279f17dc",
   "metadata": {},
   "outputs": [
    {
     "data": {
      "text/plain": [
       "PassengerId     0.00\n",
       "Survived        0.00\n",
       "Pclass          0.00\n",
       "Name            0.00\n",
       "Sex             0.00\n",
       "Age            19.87\n",
       "SibSp           0.00\n",
       "Parch           0.00\n",
       "Ticket          0.00\n",
       "Fare            0.00\n",
       "Cabin          77.10\n",
       "Embarked        0.22\n",
       "dtype: float64"
      ]
     },
     "execution_count": 565,
     "metadata": {},
     "output_type": "execute_result"
    }
   ],
   "source": [
    "# Verificando porcentagem de valores ausentes\n",
    "round(treino.isnull().mean()*100,2)"
   ]
  },
  {
   "cell_type": "markdown",
   "id": "9c7dd9fe",
   "metadata": {},
   "source": [
    "- **Base de teste**"
   ]
  },
  {
   "cell_type": "code",
   "execution_count": 566,
   "id": "d287d646",
   "metadata": {},
   "outputs": [],
   "source": [
    "teste = pd.read_csv('test.csv')"
   ]
  },
  {
   "cell_type": "code",
   "execution_count": 567,
   "id": "568c777e",
   "metadata": {},
   "outputs": [
    {
     "name": "stdout",
     "output_type": "stream",
     "text": [
      "<class 'pandas.core.frame.DataFrame'>\n",
      "RangeIndex: 418 entries, 0 to 417\n",
      "Data columns (total 11 columns):\n",
      " #   Column       Non-Null Count  Dtype  \n",
      "---  ------       --------------  -----  \n",
      " 0   PassengerId  418 non-null    int64  \n",
      " 1   Pclass       418 non-null    int64  \n",
      " 2   Name         418 non-null    object \n",
      " 3   Sex          418 non-null    object \n",
      " 4   Age          332 non-null    float64\n",
      " 5   SibSp        418 non-null    int64  \n",
      " 6   Parch        418 non-null    int64  \n",
      " 7   Ticket       418 non-null    object \n",
      " 8   Fare         417 non-null    float64\n",
      " 9   Cabin        91 non-null     object \n",
      " 10  Embarked     418 non-null    object \n",
      "dtypes: float64(2), int64(4), object(5)\n",
      "memory usage: 36.0+ KB\n"
     ]
    }
   ],
   "source": [
    "# Verificando as informações da base\n",
    "teste.info()"
   ]
  },
  {
   "cell_type": "code",
   "execution_count": 568,
   "id": "e4df2fb1",
   "metadata": {},
   "outputs": [
    {
     "data": {
      "text/html": [
       "<div>\n",
       "<style scoped>\n",
       "    .dataframe tbody tr th:only-of-type {\n",
       "        vertical-align: middle;\n",
       "    }\n",
       "\n",
       "    .dataframe tbody tr th {\n",
       "        vertical-align: top;\n",
       "    }\n",
       "\n",
       "    .dataframe thead th {\n",
       "        text-align: right;\n",
       "    }\n",
       "</style>\n",
       "<table border=\"1\" class=\"dataframe\">\n",
       "  <thead>\n",
       "    <tr style=\"text-align: right;\">\n",
       "      <th></th>\n",
       "      <th>count</th>\n",
       "      <th>mean</th>\n",
       "      <th>std</th>\n",
       "      <th>min</th>\n",
       "      <th>25%</th>\n",
       "      <th>50%</th>\n",
       "      <th>75%</th>\n",
       "      <th>max</th>\n",
       "    </tr>\n",
       "  </thead>\n",
       "  <tbody>\n",
       "    <tr>\n",
       "      <th>PassengerId</th>\n",
       "      <td>418.0</td>\n",
       "      <td>1100.500000</td>\n",
       "      <td>120.810458</td>\n",
       "      <td>892.00</td>\n",
       "      <td>996.2500</td>\n",
       "      <td>1100.5000</td>\n",
       "      <td>1204.75</td>\n",
       "      <td>1309.0000</td>\n",
       "    </tr>\n",
       "    <tr>\n",
       "      <th>Pclass</th>\n",
       "      <td>418.0</td>\n",
       "      <td>2.265550</td>\n",
       "      <td>0.841838</td>\n",
       "      <td>1.00</td>\n",
       "      <td>1.0000</td>\n",
       "      <td>3.0000</td>\n",
       "      <td>3.00</td>\n",
       "      <td>3.0000</td>\n",
       "    </tr>\n",
       "    <tr>\n",
       "      <th>Age</th>\n",
       "      <td>332.0</td>\n",
       "      <td>30.272590</td>\n",
       "      <td>14.181209</td>\n",
       "      <td>0.17</td>\n",
       "      <td>21.0000</td>\n",
       "      <td>27.0000</td>\n",
       "      <td>39.00</td>\n",
       "      <td>76.0000</td>\n",
       "    </tr>\n",
       "    <tr>\n",
       "      <th>SibSp</th>\n",
       "      <td>418.0</td>\n",
       "      <td>0.447368</td>\n",
       "      <td>0.896760</td>\n",
       "      <td>0.00</td>\n",
       "      <td>0.0000</td>\n",
       "      <td>0.0000</td>\n",
       "      <td>1.00</td>\n",
       "      <td>8.0000</td>\n",
       "    </tr>\n",
       "    <tr>\n",
       "      <th>Parch</th>\n",
       "      <td>418.0</td>\n",
       "      <td>0.392344</td>\n",
       "      <td>0.981429</td>\n",
       "      <td>0.00</td>\n",
       "      <td>0.0000</td>\n",
       "      <td>0.0000</td>\n",
       "      <td>0.00</td>\n",
       "      <td>9.0000</td>\n",
       "    </tr>\n",
       "    <tr>\n",
       "      <th>Fare</th>\n",
       "      <td>417.0</td>\n",
       "      <td>35.627188</td>\n",
       "      <td>55.907576</td>\n",
       "      <td>0.00</td>\n",
       "      <td>7.8958</td>\n",
       "      <td>14.4542</td>\n",
       "      <td>31.50</td>\n",
       "      <td>512.3292</td>\n",
       "    </tr>\n",
       "  </tbody>\n",
       "</table>\n",
       "</div>"
      ],
      "text/plain": [
       "             count         mean         std     min       25%        50%  \\\n",
       "PassengerId  418.0  1100.500000  120.810458  892.00  996.2500  1100.5000   \n",
       "Pclass       418.0     2.265550    0.841838    1.00    1.0000     3.0000   \n",
       "Age          332.0    30.272590   14.181209    0.17   21.0000    27.0000   \n",
       "SibSp        418.0     0.447368    0.896760    0.00    0.0000     0.0000   \n",
       "Parch        418.0     0.392344    0.981429    0.00    0.0000     0.0000   \n",
       "Fare         417.0    35.627188   55.907576    0.00    7.8958    14.4542   \n",
       "\n",
       "                 75%        max  \n",
       "PassengerId  1204.75  1309.0000  \n",
       "Pclass          3.00     3.0000  \n",
       "Age            39.00    76.0000  \n",
       "SibSp           1.00     8.0000  \n",
       "Parch           0.00     9.0000  \n",
       "Fare           31.50   512.3292  "
      ]
     },
     "execution_count": 568,
     "metadata": {},
     "output_type": "execute_result"
    }
   ],
   "source": [
    "# analisando dados estatísticos\n",
    "teste.describe().T"
   ]
  },
  {
   "cell_type": "code",
   "execution_count": 569,
   "id": "5756c3b0",
   "metadata": {},
   "outputs": [
    {
     "data": {
      "text/plain": [
       "PassengerId     0.00\n",
       "Pclass          0.00\n",
       "Name            0.00\n",
       "Sex             0.00\n",
       "Age            20.57\n",
       "SibSp           0.00\n",
       "Parch           0.00\n",
       "Ticket          0.00\n",
       "Fare            0.24\n",
       "Cabin          78.23\n",
       "Embarked        0.00\n",
       "dtype: float64"
      ]
     },
     "execution_count": 569,
     "metadata": {},
     "output_type": "execute_result"
    }
   ],
   "source": [
    "# Verificando porcentagem de valores ausentes\n",
    "round(teste.isnull().mean()*100,2)"
   ]
  },
  {
   "cell_type": "markdown",
   "id": "f6ddce70",
   "metadata": {},
   "source": [
    "## Visualização dos dados"
   ]
  },
  {
   "cell_type": "markdown",
   "id": "69ed4ebf",
   "metadata": {},
   "source": [
    "### Classe"
   ]
  },
  {
   "cell_type": "code",
   "execution_count": 570,
   "id": "8cb2b76e",
   "metadata": {},
   "outputs": [
    {
     "data": {
      "image/png": "[encoded data removed]",
      "text/plain": [
       "<Figure size 504x360 with 1 Axes>"
      ]
     },
     "metadata": {},
     "output_type": "display_data"
    }
   ],
   "source": [
    "# Agrupano Classe do passageiro com a condição de sobrevivencia\n",
    "aggregated_data = treino[['Pclass', 'Survived']].groupby(['Pclass'], as_index=False).mean().sort_values(by='Survived', ascending=False)\n",
    "\n",
    "plt.figure(figsize=(7, 5))\n",
    "sns.barplot(data=aggregated_data, x='Pclass', y='Survived', palette='viridis')\n",
    "plt.xlabel('Classe')\n",
    "plt.ylabel('Taxa de Sobrevivência')\n",
    "plt.title('Taxa de Sobrevivência por Classe')\n",
    "plt.show()"
   ]
  },
  {
   "cell_type": "markdown",
   "id": "538664e6",
   "metadata": {},
   "source": [
    "Podemos observar uma taxa de sobrevivência significativamente alta, atingindo 65%, entre as pessoas da primeira classe, enquanto aqueles da terceira classe apresentam uma taxa consideravelmente menor, situando-se em 25%."
   ]
  },
  {
   "cell_type": "code",
   "execution_count": 571,
   "id": "b02fe558",
   "metadata": {},
   "outputs": [
    {
     "data": {
      "text/plain": [
       "<seaborn.axisgrid.FacetGrid at 0x18abb7ed280>"
      ]
     },
     "execution_count": 571,
     "metadata": {},
     "output_type": "execute_result"
    },
    {
     "data": {
      "image/png": "[encoded data removed]",
      "text/plain": [
       "<Figure size 518.08x475.2 with 6 Axes>"
      ]
     },
     "metadata": {},
     "output_type": "display_data"
    }
   ],
   "source": [
    "grid = sns.FacetGrid(treino, col='Survived', row='Pclass', size=2.2, aspect=1.6)\n",
    "grid.map(plt.hist, 'Age', alpha=.5, bins=20)\n",
    "grid.add_legend()"
   ]
  },
  {
   "cell_type": "markdown",
   "id": "8674e548",
   "metadata": {},
   "source": [
    "### Sexo e Idade"
   ]
  },
  {
   "cell_type": "code",
   "execution_count": 572,
   "id": "1d2c4f41",
   "metadata": {},
   "outputs": [
    {
     "data": {
      "image/png": "[encoded data removed]",
      "text/plain": [
       "<Figure size 864x432 with 2 Axes>"
      ]
     },
     "metadata": {},
     "output_type": "display_data"
    }
   ],
   "source": [
    "fig, axes = plt.subplots(nrows=1, ncols=2,figsize=(12, 6))\n",
    "women = treino[treino['Sex']=='female']\n",
    "men = treino[treino['Sex']=='male']\n",
    "ax = sns.distplot(women[women['Survived']==1].Age.dropna(), bins=18, label = 'Sobreviveu', ax = axes[0], kde =False)\n",
    "ax = sns.distplot(women[women['Survived']==0].Age.dropna(), bins=40, label = 'Morreu', ax = axes[0], kde =False)\n",
    "ax.legend()\n",
    "ax.set_title('Mulher')\n",
    "ax = sns.distplot(men[men['Survived']==1].Age.dropna(), bins=18, label = 'Sobreviveu', ax = axes[1], kde = False)\n",
    "ax = sns.distplot(men[men['Survived']==0].Age.dropna(), bins=40, label = 'Morreu', ax = axes[1], kde = False)\n",
    "ax.legend()\n",
    "ax.set_title('Homem')\n",
    "plt.show()"
   ]
  },
  {
   "cell_type": "markdown",
   "id": "3600b174",
   "metadata": {},
   "source": [
    "É evidente que os homens apresentam uma probabilidade substancialmente elevada de sobrevivência entre as faixas etárias de 20 a 30 anos. Essa tendência é também parcialmente observada nas mulheres, embora não de forma tão marcante. Para o sexo feminino, as maiores chances de sobrevivência ocorrem entre os 14 e 40 anos.\n",
    "\n",
    "No caso dos homens, é notável que a altra probabilidade de morte.\n",
    "\n",
    "Devido à presença de faixas etárias específicas que impulsionam as chances de sobrevivência, e para garantir uma uniformidade nas escalas de características, a criação de grupos etários posteriormente é uma medida que pretendo adotar."
   ]
  },
  {
   "cell_type": "markdown",
   "id": "b77c5846",
   "metadata": {},
   "source": [
    "### Fare"
   ]
  },
  {
   "cell_type": "code",
   "execution_count": 573,
   "id": "34105c09",
   "metadata": {},
   "outputs": [
    {
     "data": {
      "image/png": "[encoded data removed]",
      "text/plain": [
       "<Figure size 576x288 with 1 Axes>"
      ]
     },
     "metadata": {},
     "output_type": "display_data"
    }
   ],
   "source": [
    "plt.figure(figsize=(8, 4))\n",
    "sns.scatterplot(data=treino, x='Age', y='Fare', hue='Survived')\n",
    "plt.xlabel('Idade')\n",
    "plt.ylabel('Valor da Passagem')\n",
    "plt.title('Taxa de Sobrevivência por Valor da Passagem')\n",
    "plt.show()"
   ]
  },
  {
   "cell_type": "markdown",
   "id": "8e81585a",
   "metadata": {},
   "source": [
    "Como já observado anteriormente, o valor da passagem está relacionado com a sobrevivência, havendo uma tendência de maior probabilidade de sobrevivência caso haja um pagamento mais elevado."
   ]
  },
  {
   "cell_type": "markdown",
   "id": "a5907872",
   "metadata": {},
   "source": [
    "### Embarked, Classe e Gênero"
   ]
  },
  {
   "cell_type": "code",
   "execution_count": 574,
   "id": "f9236819",
   "metadata": {
    "scrolled": true
   },
   "outputs": [
    {
     "data": {
      "text/plain": [
       "<seaborn.axisgrid.FacetGrid at 0x18ac50b9b20>"
      ]
     },
     "execution_count": 574,
     "metadata": {},
     "output_type": "execute_result"
    },
    {
     "data": {
      "image/png": "[encoded data removed]",
      "text/plain": [
       "<Figure size 682.1x972 with 3 Axes>"
      ]
     },
     "metadata": {},
     "output_type": "display_data"
    }
   ],
   "source": [
    "FacetGrid = sns.FacetGrid(treino, row='Embarked', size=4.5, aspect=1.8)\n",
    "FacetGrid.map(sns.pointplot, 'Pclass', 'Survived', 'Sex', palette=None,  order=None, hue_order=None )\n",
    "FacetGrid.add_legend()"
   ]
  },
  {
   "cell_type": "markdown",
   "id": "90e7ba18",
   "metadata": {},
   "source": [
    "O padrão de embarque demonstra uma correlação aparente com as taxas de sobrevivência, com a dinâmica variando de acordo com o gênero.\n",
    "\n",
    "No caso das mulheres, aquelas que embarcaram nas portas Q e S exibiram maiores chances de sobrevivência. Contudo, essa relação se inverte ao considerarmos o porto C como ponto de embarque. No que diz respeito aos homens, observa-se que a probabilidade de sobrevivência é notavelmente alta quando o embarque ocorreu no porto C. Em contraste, a probabilidade é consideravelmente reduzida quando o embarque ocorreu nas portas Q ou S."
   ]
  },
  {
   "cell_type": "markdown",
   "id": "67097358",
   "metadata": {},
   "source": [
    "### SibSp e Parch"
   ]
  },
  {
   "cell_type": "markdown",
   "id": "83cba085",
   "metadata": {},
   "source": [
    "A combinação de \"SibSp\" (número de irmãos/cônjuges a bordo) e \"Parch\" (número de pais/filhos a bordo) não me parece fazer muito sentido ser analisado separadamente. Podemos criar um novo recurso, que representará essa soma mais um, ou seja, o tamanho da familía."
   ]
  },
  {
   "cell_type": "code",
   "execution_count": 575,
   "id": "79c70298",
   "metadata": {},
   "outputs": [
    {
     "data": {
      "text/plain": [
       "1    537\n",
       "0    354\n",
       "Name: Is_Alone, dtype: int64"
      ]
     },
     "execution_count": 575,
     "metadata": {},
     "output_type": "execute_result"
    }
   ],
   "source": [
    "data = [treino, teste]\n",
    "for dataset in data:\n",
    "    dataset['family_size'] = dataset['SibSp'] + dataset['Parch'] + 1\n",
    "    dataset.loc[dataset['family_size'] > 1, 'Is_Alone'] = 0\n",
    "    dataset.loc[dataset['family_size'] == 1, 'Is_Alone'] = 1\n",
    "    dataset['Is_Alone'] = dataset['Is_Alone'].astype(int)\n",
    "    dataset.drop(['SibSp', 'Parch'], axis=1, inplace=True)\n",
    "treino['Is_Alone'].value_counts()"
   ]
  },
  {
   "cell_type": "code",
   "execution_count": 576,
   "id": "66dd0ef5",
   "metadata": {},
   "outputs": [
    {
     "data": {
      "image/png": "[encoded data removed]",
      "text/plain": [
       "<Figure size 900x360 with 1 Axes>"
      ]
     },
     "metadata": {},
     "output_type": "display_data"
    }
   ],
   "source": [
    "axes = sns.factorplot('family_size','Survived', data=treino, aspect = 2.5)"
   ]
  },
  {
   "cell_type": "markdown",
   "id": "5cd741c7",
   "metadata": {},
   "source": [
    "Aqui podemos ver que você tinha uma alta probabilidade de sobrevivência com o tamanho da família de 2 a 4."
   ]
  },
  {
   "cell_type": "markdown",
   "id": "41034d39",
   "metadata": {},
   "source": [
    "### Idade e Sobrevivência"
   ]
  },
  {
   "cell_type": "code",
   "execution_count": 577,
   "id": "d44c6365",
   "metadata": {
    "scrolled": true
   },
   "outputs": [
    {
     "data": {
      "image/png": "[encoded data removed]",
      "text/plain": [
       "<Figure size 1008x432 with 1 Axes>"
      ]
     },
     "metadata": {},
     "output_type": "display_data"
    }
   ],
   "source": [
    "treino2 = treino.copy()\n",
    "treino2 = treino2[treino2['Age'].notnull()]\n",
    "treino2['Age'] = treino2.Age.astype(int)\n",
    "survival_counts = treino2.groupby(['Age', 'Survived']).size().unstack(fill_value=0)\n",
    "\n",
    "plt.figure(figsize=(14, 6))\n",
    "sns.barplot(x=survival_counts.index, y=survival_counts[1], color='white', label='Sobreviveu')\n",
    "sns.barplot(x=survival_counts.index, y=-survival_counts[0], color='black', label='Morreu')\n",
    "\n",
    "plt.xticks(rotation=90)\n",
    "plt.tight_layout()\n",
    "plt.xlabel('Idade')\n",
    "plt.ylabel('Contagem')\n",
    "plt.title('Sobrevivência por Idade')\n",
    "\n",
    "plt.gca().set_yticklabels([int(abs(tick)) for tick in plt.gca().get_yticks()])\n",
    "\n",
    "plt.legend(title=\"Status de Sobrevivência\", loc=\"upper right\")\n",
    "plt.show()"
   ]
  },
  {
   "cell_type": "code",
   "execution_count": 578,
   "id": "936a010c",
   "metadata": {},
   "outputs": [
    {
     "data": {
      "image/png": "[encoded data removed]",
      "text/plain": [
       "<Figure size 576x288 with 1 Axes>"
      ]
     },
     "metadata": {},
     "output_type": "display_data"
    }
   ],
   "source": [
    "plt.figure(figsize=(8, 4))\n",
    "aggregated_data = treino[treino.Age <=10].groupby(['Age'], as_index=False).mean()\n",
    "sns.barplot(data=aggregated_data, x=aggregated_data.Age, y='Survived')\n",
    "plt.xlabel('Idade')\n",
    "plt.ylabel('Prob. Sobrevivência')\n",
    "plt.show()"
   ]
  },
  {
   "cell_type": "markdown",
   "id": "4186b926",
   "metadata": {},
   "source": [
    "Podemos notar que crianças com meses de vida tem uma taxa de 100% de sobrevivência."
   ]
  },
  {
   "cell_type": "markdown",
   "id": "e69324c6",
   "metadata": {},
   "source": [
    "### Nomes e Títulos"
   ]
  },
  {
   "cell_type": "code",
   "execution_count": 579,
   "id": "8cc73ebc",
   "metadata": {},
   "outputs": [],
   "source": [
    "df_treino = treino.copy()\n",
    "\n",
    "df_treino['Title'] = df_treino.Name.apply(lambda x: x.split(',')[1].split('.')[0].strip().lower())\n"
   ]
  },
  {
   "cell_type": "markdown",
   "id": "52239307",
   "metadata": {},
   "source": [
    "As nomeclaturas são definidas como:\n",
    "\n",
    "- `mr` -> Senhor (usado para homens casados)\n",
    "- `mrs` -> Senhora  (usado para mulheres casadas)\n",
    "- `miss` -> Srta. / Senhorita\n",
    "- `master` -> Senhor (usado para um jovem)\n",
    "- `don` -> Dom\n",
    "- `rev` -> Reverendo\n",
    "- `dr` -> Doutor\n",
    "- `mme` -> Madame (equivalente a Senhora em francês)\n",
    "- `ms` -> Senhorita / Senhora (usado como forma neutra de tratamento)\n",
    "- `major` -> Major (grau militar)\n",
    "- `lady` -> Dama / Senhora\n",
    "- `sir` -> Senhor / Cavaleiro\n",
    "- `mlle` -> Mademoiselle (equivalente a Senhorita em francês)\n",
    "- `col` -> Coronel (grau militar)\n",
    "- `capt` -> Capitão (grau militar)\n",
    "- `the countess` -> Condessa\n",
    "- `jonkheer` -> Título nobiliárquico da Baixa Saxônia, Holanda e Bélgica (equivalente a nobre)."
   ]
  },
  {
   "cell_type": "code",
   "execution_count": 580,
   "id": "d317e500",
   "metadata": {},
   "outputs": [
    {
     "data": {
      "image/png": "[encoded data removed]",
      "text/plain": [
       "<Figure size 576x288 with 1 Axes>"
      ]
     },
     "metadata": {},
     "output_type": "display_data"
    }
   ],
   "source": [
    "plt.figure(figsize=(8, 4))\n",
    "sns.countplot(data=df_treino, y='Title')\n",
    "plt.xlabel('Quantidade')\n",
    "plt.ylabel('Títulos')\n",
    "plt.show()"
   ]
  },
  {
   "cell_type": "markdown",
   "id": "f5ac5ba4",
   "metadata": {},
   "source": [
    "Podemos observar uma alta concentração de 4 títulos: \"Mr.\", \"Mrs.\", \"Miss\" e \"Master\". Vamos analisar a taxa de sobrevivência associada a esses títulos."
   ]
  },
  {
   "cell_type": "code",
   "execution_count": 581,
   "id": "3acf54ad",
   "metadata": {},
   "outputs": [
    {
     "data": {
      "image/png": "[encoded data removed]",
      "text/plain": [
       "<Figure size 576x288 with 1 Axes>"
      ]
     },
     "metadata": {},
     "output_type": "display_data"
    }
   ],
   "source": [
    "plt.figure(figsize=(8, 4))\n",
    "aggregated_data = df_treino.groupby(['Title']).mean().sort_values(by='Survived',ascending=False)\n",
    "sns.barplot(data=aggregated_data, y=aggregated_data.index, x='Survived')\n",
    "plt.ylabel('Título')\n",
    "plt.xlabel('Prob. Sobrevivência')\n",
    "plt.show()"
   ]
  },
  {
   "cell_type": "markdown",
   "id": "a8a1e861",
   "metadata": {},
   "source": [
    "Interessante. Devemos ter cuidado para que a exceção não se torne regra. Embora possamos observar que Coronel possui uma taxa de sobrevivência de 100%, é importante lembrar que, como vimos anteriormente, a contagem nesse caso é quase insignificante. Portanto, não podemos generalizar essa situação para todos os casos."
   ]
  },
  {
   "cell_type": "markdown",
   "id": "b1f70ce8",
   "metadata": {},
   "source": [
    "# Processamento dos Dados"
   ]
  },
  {
   "cell_type": "markdown",
   "id": "e1d95a6e",
   "metadata": {},
   "source": [
    "Vamos proceder à criação de uma cópia do nosso conjunto de dados original para procedimentos de limpeza de dados."
   ]
  },
  {
   "cell_type": "code",
   "execution_count": 582,
   "id": "f8977734",
   "metadata": {},
   "outputs": [],
   "source": [
    "treino_filtrado = treino.copy()\n",
    "teste_filtrado = teste.copy()"
   ]
  },
  {
   "cell_type": "markdown",
   "id": "dcc52b46",
   "metadata": {},
   "source": [
    "Primeiro, retirarei 'PassengerId' do conjunto de treino, porque não contribui para a probabilidade de sobrevivência de uma pessoa. Não vou retirá-lo do conjunto de teste, pois é necessário lá para o envio no Kaggle."
   ]
  },
  {
   "cell_type": "code",
   "execution_count": 583,
   "id": "eb3006aa",
   "metadata": {},
   "outputs": [],
   "source": [
    "treino_filtrado = treino_filtrado.drop(['PassengerId'], axis=1)\n",
    "\n",
    "# Crianção da lista de dataset para futuras limpezar mais rapidas\n",
    "data = [treino_filtrado, teste_filtrado]"
   ]
  },
  {
   "cell_type": "markdown",
   "id": "8c74bd63",
   "metadata": {},
   "source": [
    "### Name"
   ]
  },
  {
   "cell_type": "markdown",
   "id": "8ae23c40",
   "metadata": {},
   "source": [
    "Utilizaremos o recurso `Name` para extrair os títulos dos nomes, como realizado anteriormente. No entanto, vamos considerar os casos com contagem insignificante como ocorrências excepcionais."
   ]
  },
  {
   "cell_type": "code",
   "execution_count": 584,
   "id": "178b8e0e",
   "metadata": {},
   "outputs": [],
   "source": [
    "# Crie uma instância do LabelEncoder\n",
    "label_encoder = LabelEncoder()\n",
    "titulo = {\"mr\": 1, \"miss\": 2, \"mrs\": 3, \"master\": 4, \"excep\": 5}\n",
    "\n",
    "for dataset in data:\n",
    "    # Extraindo os titulos dos nomes\n",
    "    dataset['Title'] = dataset.Name.apply(lambda x: x.split(',')[1].split('.')[0].strip().lower())\n",
    "    \n",
    "    # Substituindo os títulos por um título mais comum ou como excep\n",
    "    dataset['Title'] = dataset['Title'].replace('mlle', 'miss')\n",
    "    dataset['Title'] = dataset['Title'].replace('ms', 'miss')\n",
    "    dataset['Title'] = dataset['Title'].replace('mme', 'mrs')\n",
    "    dataset['Title'] = dataset['Title'].replace(['lady', 'the countess', 'countess','capt', 'col','don', 'dr', 'major', 'rev', 'sir', 'jonkheer', 'dona'], 'excep')\n",
    "    \n",
    "    # Usar o LabelEncoder para converter títulos em números\n",
    "    dataset['Title'] = label_encoder.fit_transform(dataset['Title'])\n",
    "    # dataset['Title'] = dataset['Title'].map(titulo)\n",
    "    \n",
    "    # Descartando o recurso Name\n",
    "    dataset.drop(['Name'], axis=1, inplace=True)"
   ]
  },
  {
   "cell_type": "code",
   "execution_count": 585,
   "id": "83f08e2a",
   "metadata": {},
   "outputs": [],
   "source": [
    "# treino_filtrado = pd.get_dummies(treino_filtrado, columns=['Titulo'])\n",
    "# teste_filtrado = pd.get_dummies(teste_filtrado, columns=['Titulo'])  \n",
    "\n",
    "# data = [treino_filtrado, teste_filtrado]"
   ]
  },
  {
   "cell_type": "markdown",
   "id": "82078005",
   "metadata": {},
   "source": [
    "## Dados Ausentes"
   ]
  },
  {
   "cell_type": "markdown",
   "id": "01c0e82a",
   "metadata": {},
   "source": [
    "### Idade"
   ]
  },
  {
   "cell_type": "markdown",
   "id": "ecf8de0b",
   "metadata": {},
   "source": [
    "Vamos prosseguir com o cálculo da média das idades para preencher os dados ausentes. Inicialmente, poderíamos considerar o preenchimento com a média das idades. No entanto, a ideia de atribuir a mesma idade a 20% do nosso conjunto de dados pode não ser realista. Uma outra obordagem poderia ser explorar a aplicação de outro modelo para estimar a idade com base em recursos específicos.\n",
    "\n",
    "Porém para essa análise, vamos criar uma matriz que contenha números aleatórios. Esses números serão calculados levando em consideração o valor médio da idade em relação ao desvio padrão."
   ]
  },
  {
   "cell_type": "code",
   "execution_count": 586,
   "id": "ab0974c0",
   "metadata": {},
   "outputs": [],
   "source": [
    "for dataset in data:\n",
    "    media = dataset[\"Age\"].mean()\n",
    "    std = dataset[\"Age\"].std()\n",
    "    is_null = dataset[\"Age\"].isnull().sum()\n",
    "\n",
    "    # calcula números aleatórios entre a média, std e total de ausentes\n",
    "    rand_age = np.random.randint(media - std, media + std, size = is_null)\n",
    "\n",
    "    # preenche os valores NaN na coluna Age com valores aleatórios gerados\n",
    "    age_slice = dataset[\"Age\"].copy()\n",
    "    age_slice[np.isnan(age_slice)] = rand_age\n",
    "    dataset[\"Age\"] = age_slice\n",
    "    dataset[\"Age\"] = dataset[\"Age\"].astype(int)"
   ]
  },
  {
   "cell_type": "code",
   "execution_count": 587,
   "id": "7f694dde",
   "metadata": {},
   "outputs": [],
   "source": [
    "# for cat, inter in enumerate(pd.qcut(treino_filtrado.Age, 5).cat.categories):\n",
    "#     print(f'Categoria: {cat}\\t|\\tIntervalo: {inter}')"
   ]
  },
  {
   "cell_type": "code",
   "execution_count": 588,
   "id": "408eb780",
   "metadata": {},
   "outputs": [],
   "source": [
    "# for dataset in data:\n",
    "#     dataset['Age'] = pd.qcut(dataset.Age, 5, labels=False)"
   ]
  },
  {
   "cell_type": "markdown",
   "id": "c49707fc",
   "metadata": {},
   "source": [
    "### Embarked"
   ]
  },
  {
   "cell_type": "markdown",
   "id": "59d1030a",
   "metadata": {},
   "source": [
    "No caso do atributo `Embarked`, em que dispomos de informações limitadas para determinar o local de embarque do passageiro, a melhor abordagem é preencher os dados faltantes com a moda, ou seja, preenchendo com o mais comum."
   ]
  },
  {
   "cell_type": "code",
   "execution_count": 589,
   "id": "5fda3944",
   "metadata": {},
   "outputs": [],
   "source": [
    "# Preenchendo Embarque com a moda\n",
    "treino_filtrado.loc[treino_filtrado.Embarked.isnull(), 'Embarked'] = treino_filtrado.Embarked.mode()[0]"
   ]
  },
  {
   "cell_type": "markdown",
   "id": "243ce046",
   "metadata": {},
   "source": [
    "### Fare"
   ]
  },
  {
   "cell_type": "markdown",
   "id": "f1b676ff",
   "metadata": {},
   "source": [
    "Para o atributo `Fare`, só temos uma único registro ausente"
   ]
  },
  {
   "cell_type": "code",
   "execution_count": 590,
   "id": "630ee30d",
   "metadata": {},
   "outputs": [
    {
     "data": {
      "text/html": [
       "<div>\n",
       "<style scoped>\n",
       "    .dataframe tbody tr th:only-of-type {\n",
       "        vertical-align: middle;\n",
       "    }\n",
       "\n",
       "    .dataframe tbody tr th {\n",
       "        vertical-align: top;\n",
       "    }\n",
       "\n",
       "    .dataframe thead th {\n",
       "        text-align: right;\n",
       "    }\n",
       "</style>\n",
       "<table border=\"1\" class=\"dataframe\">\n",
       "  <thead>\n",
       "    <tr style=\"text-align: right;\">\n",
       "      <th></th>\n",
       "      <th>PassengerId</th>\n",
       "      <th>Pclass</th>\n",
       "      <th>Sex</th>\n",
       "      <th>Age</th>\n",
       "      <th>Ticket</th>\n",
       "      <th>Fare</th>\n",
       "      <th>Cabin</th>\n",
       "      <th>Embarked</th>\n",
       "      <th>family_size</th>\n",
       "      <th>Is_Alone</th>\n",
       "      <th>Title</th>\n",
       "    </tr>\n",
       "  </thead>\n",
       "  <tbody>\n",
       "    <tr>\n",
       "      <th>152</th>\n",
       "      <td>1044</td>\n",
       "      <td>3</td>\n",
       "      <td>male</td>\n",
       "      <td>60</td>\n",
       "      <td>3701</td>\n",
       "      <td>NaN</td>\n",
       "      <td>NaN</td>\n",
       "      <td>S</td>\n",
       "      <td>1</td>\n",
       "      <td>1</td>\n",
       "      <td>3</td>\n",
       "    </tr>\n",
       "  </tbody>\n",
       "</table>\n",
       "</div>"
      ],
      "text/plain": [
       "     PassengerId  Pclass   Sex  Age Ticket  Fare Cabin Embarked  family_size  \\\n",
       "152         1044       3  male   60   3701   NaN   NaN        S            1   \n",
       "\n",
       "     Is_Alone  Title  \n",
       "152         1      3  "
      ]
     },
     "execution_count": 590,
     "metadata": {},
     "output_type": "execute_result"
    }
   ],
   "source": [
    "teste_filtrado[teste_filtrado['Fare'].isnull()]"
   ]
  },
  {
   "cell_type": "markdown",
   "id": "27ed289a",
   "metadata": {},
   "source": [
    "Para encontrar informações semelhantes, podemos realizar uma consulta (query) considerando diversas características relevantes, tais como a classe da pessoa, o local de embarque e se ela estava acompanhada. Através desse processo, obtemos a média das pessoas com características semelhantes, o que nos permite preencher o dado faltante de forma mais precisa e confiável."
   ]
  },
  {
   "cell_type": "code",
   "execution_count": 591,
   "id": "73204544",
   "metadata": {
    "scrolled": true
   },
   "outputs": [
    {
     "data": {
      "text/plain": [
       "9.096774666666665"
      ]
     },
     "execution_count": 591,
     "metadata": {},
     "output_type": "execute_result"
    }
   ],
   "source": [
    "filtro = \"Pclass == 3 and Embarked == 'S' and family_size == 1 and Sex == 'male'\"\n",
    "teste_filtrado.query(filtro)['Fare'].mean()"
   ]
  },
  {
   "cell_type": "code",
   "execution_count": 592,
   "id": "0b99c785",
   "metadata": {},
   "outputs": [],
   "source": [
    "# Preenchendo o valor da passagem com semelhança de passageiros\n",
    "teste_filtrado.loc[teste_filtrado.Fare.isnull(), 'Fare'] = teste_filtrado.query(filtro)['Fare'].mean()"
   ]
  },
  {
   "cell_type": "code",
   "execution_count": 593,
   "id": "c82d9cf2",
   "metadata": {},
   "outputs": [],
   "source": [
    "# for cat, inter in enumerate(pd.qcut(teste_filtrado.Fare, 5).cat.categories):\n",
    "#     print(f'Categoria: {cat}\\t|\\tIntervalo: {inter}')"
   ]
  },
  {
   "cell_type": "code",
   "execution_count": 594,
   "id": "7b4cba4d",
   "metadata": {},
   "outputs": [],
   "source": [
    "# for dataset in data:\n",
    "#     dataset['Fare'] = pd.qcut(dataset.Fare, 5, labels=False)"
   ]
  },
  {
   "cell_type": "markdown",
   "id": "ca6706e6",
   "metadata": {},
   "source": [
    "Alem disso, temos aluns valores estranho, pessoas viajando pagando 0 dinheiros"
   ]
  },
  {
   "cell_type": "code",
   "execution_count": 595,
   "id": "1cdab2f9",
   "metadata": {
    "scrolled": true
   },
   "outputs": [
    {
     "data": {
      "text/html": [
       "<div>\n",
       "<style scoped>\n",
       "    .dataframe tbody tr th:only-of-type {\n",
       "        vertical-align: middle;\n",
       "    }\n",
       "\n",
       "    .dataframe tbody tr th {\n",
       "        vertical-align: top;\n",
       "    }\n",
       "\n",
       "    .dataframe thead th {\n",
       "        text-align: right;\n",
       "    }\n",
       "</style>\n",
       "<table border=\"1\" class=\"dataframe\">\n",
       "  <thead>\n",
       "    <tr style=\"text-align: right;\">\n",
       "      <th></th>\n",
       "      <th>PassengerId</th>\n",
       "      <th>Survived</th>\n",
       "      <th>Pclass</th>\n",
       "      <th>Name</th>\n",
       "      <th>Sex</th>\n",
       "      <th>Age</th>\n",
       "      <th>Ticket</th>\n",
       "      <th>Fare</th>\n",
       "      <th>Cabin</th>\n",
       "      <th>Embarked</th>\n",
       "      <th>family_size</th>\n",
       "      <th>Is_Alone</th>\n",
       "    </tr>\n",
       "  </thead>\n",
       "  <tbody>\n",
       "    <tr>\n",
       "      <th>179</th>\n",
       "      <td>180</td>\n",
       "      <td>0</td>\n",
       "      <td>3</td>\n",
       "      <td>Leonard, Mr. Lionel</td>\n",
       "      <td>male</td>\n",
       "      <td>36.0</td>\n",
       "      <td>LINE</td>\n",
       "      <td>0.0</td>\n",
       "      <td>NaN</td>\n",
       "      <td>S</td>\n",
       "      <td>1</td>\n",
       "      <td>1</td>\n",
       "    </tr>\n",
       "    <tr>\n",
       "      <th>263</th>\n",
       "      <td>264</td>\n",
       "      <td>0</td>\n",
       "      <td>1</td>\n",
       "      <td>Harrison, Mr. William</td>\n",
       "      <td>male</td>\n",
       "      <td>40.0</td>\n",
       "      <td>112059</td>\n",
       "      <td>0.0</td>\n",
       "      <td>B94</td>\n",
       "      <td>S</td>\n",
       "      <td>1</td>\n",
       "      <td>1</td>\n",
       "    </tr>\n",
       "    <tr>\n",
       "      <th>271</th>\n",
       "      <td>272</td>\n",
       "      <td>1</td>\n",
       "      <td>3</td>\n",
       "      <td>Tornquist, Mr. William Henry</td>\n",
       "      <td>male</td>\n",
       "      <td>25.0</td>\n",
       "      <td>LINE</td>\n",
       "      <td>0.0</td>\n",
       "      <td>NaN</td>\n",
       "      <td>S</td>\n",
       "      <td>1</td>\n",
       "      <td>1</td>\n",
       "    </tr>\n",
       "    <tr>\n",
       "      <th>277</th>\n",
       "      <td>278</td>\n",
       "      <td>0</td>\n",
       "      <td>2</td>\n",
       "      <td>Parkes, Mr. Francis \"Frank\"</td>\n",
       "      <td>male</td>\n",
       "      <td>NaN</td>\n",
       "      <td>239853</td>\n",
       "      <td>0.0</td>\n",
       "      <td>NaN</td>\n",
       "      <td>S</td>\n",
       "      <td>1</td>\n",
       "      <td>1</td>\n",
       "    </tr>\n",
       "    <tr>\n",
       "      <th>302</th>\n",
       "      <td>303</td>\n",
       "      <td>0</td>\n",
       "      <td>3</td>\n",
       "      <td>Johnson, Mr. William Cahoone Jr</td>\n",
       "      <td>male</td>\n",
       "      <td>19.0</td>\n",
       "      <td>LINE</td>\n",
       "      <td>0.0</td>\n",
       "      <td>NaN</td>\n",
       "      <td>S</td>\n",
       "      <td>1</td>\n",
       "      <td>1</td>\n",
       "    </tr>\n",
       "    <tr>\n",
       "      <th>413</th>\n",
       "      <td>414</td>\n",
       "      <td>0</td>\n",
       "      <td>2</td>\n",
       "      <td>Cunningham, Mr. Alfred Fleming</td>\n",
       "      <td>male</td>\n",
       "      <td>NaN</td>\n",
       "      <td>239853</td>\n",
       "      <td>0.0</td>\n",
       "      <td>NaN</td>\n",
       "      <td>S</td>\n",
       "      <td>1</td>\n",
       "      <td>1</td>\n",
       "    </tr>\n",
       "    <tr>\n",
       "      <th>466</th>\n",
       "      <td>467</td>\n",
       "      <td>0</td>\n",
       "      <td>2</td>\n",
       "      <td>Campbell, Mr. William</td>\n",
       "      <td>male</td>\n",
       "      <td>NaN</td>\n",
       "      <td>239853</td>\n",
       "      <td>0.0</td>\n",
       "      <td>NaN</td>\n",
       "      <td>S</td>\n",
       "      <td>1</td>\n",
       "      <td>1</td>\n",
       "    </tr>\n",
       "    <tr>\n",
       "      <th>481</th>\n",
       "      <td>482</td>\n",
       "      <td>0</td>\n",
       "      <td>2</td>\n",
       "      <td>Frost, Mr. Anthony Wood \"Archie\"</td>\n",
       "      <td>male</td>\n",
       "      <td>NaN</td>\n",
       "      <td>239854</td>\n",
       "      <td>0.0</td>\n",
       "      <td>NaN</td>\n",
       "      <td>S</td>\n",
       "      <td>1</td>\n",
       "      <td>1</td>\n",
       "    </tr>\n",
       "    <tr>\n",
       "      <th>597</th>\n",
       "      <td>598</td>\n",
       "      <td>0</td>\n",
       "      <td>3</td>\n",
       "      <td>Johnson, Mr. Alfred</td>\n",
       "      <td>male</td>\n",
       "      <td>49.0</td>\n",
       "      <td>LINE</td>\n",
       "      <td>0.0</td>\n",
       "      <td>NaN</td>\n",
       "      <td>S</td>\n",
       "      <td>1</td>\n",
       "      <td>1</td>\n",
       "    </tr>\n",
       "    <tr>\n",
       "      <th>633</th>\n",
       "      <td>634</td>\n",
       "      <td>0</td>\n",
       "      <td>1</td>\n",
       "      <td>Parr, Mr. William Henry Marsh</td>\n",
       "      <td>male</td>\n",
       "      <td>NaN</td>\n",
       "      <td>112052</td>\n",
       "      <td>0.0</td>\n",
       "      <td>NaN</td>\n",
       "      <td>S</td>\n",
       "      <td>1</td>\n",
       "      <td>1</td>\n",
       "    </tr>\n",
       "    <tr>\n",
       "      <th>674</th>\n",
       "      <td>675</td>\n",
       "      <td>0</td>\n",
       "      <td>2</td>\n",
       "      <td>Watson, Mr. Ennis Hastings</td>\n",
       "      <td>male</td>\n",
       "      <td>NaN</td>\n",
       "      <td>239856</td>\n",
       "      <td>0.0</td>\n",
       "      <td>NaN</td>\n",
       "      <td>S</td>\n",
       "      <td>1</td>\n",
       "      <td>1</td>\n",
       "    </tr>\n",
       "    <tr>\n",
       "      <th>732</th>\n",
       "      <td>733</td>\n",
       "      <td>0</td>\n",
       "      <td>2</td>\n",
       "      <td>Knight, Mr. Robert J</td>\n",
       "      <td>male</td>\n",
       "      <td>NaN</td>\n",
       "      <td>239855</td>\n",
       "      <td>0.0</td>\n",
       "      <td>NaN</td>\n",
       "      <td>S</td>\n",
       "      <td>1</td>\n",
       "      <td>1</td>\n",
       "    </tr>\n",
       "    <tr>\n",
       "      <th>806</th>\n",
       "      <td>807</td>\n",
       "      <td>0</td>\n",
       "      <td>1</td>\n",
       "      <td>Andrews, Mr. Thomas Jr</td>\n",
       "      <td>male</td>\n",
       "      <td>39.0</td>\n",
       "      <td>112050</td>\n",
       "      <td>0.0</td>\n",
       "      <td>A36</td>\n",
       "      <td>S</td>\n",
       "      <td>1</td>\n",
       "      <td>1</td>\n",
       "    </tr>\n",
       "    <tr>\n",
       "      <th>815</th>\n",
       "      <td>816</td>\n",
       "      <td>0</td>\n",
       "      <td>1</td>\n",
       "      <td>Fry, Mr. Richard</td>\n",
       "      <td>male</td>\n",
       "      <td>NaN</td>\n",
       "      <td>112058</td>\n",
       "      <td>0.0</td>\n",
       "      <td>B102</td>\n",
       "      <td>S</td>\n",
       "      <td>1</td>\n",
       "      <td>1</td>\n",
       "    </tr>\n",
       "    <tr>\n",
       "      <th>822</th>\n",
       "      <td>823</td>\n",
       "      <td>0</td>\n",
       "      <td>1</td>\n",
       "      <td>Reuchlin, Jonkheer. John George</td>\n",
       "      <td>male</td>\n",
       "      <td>38.0</td>\n",
       "      <td>19972</td>\n",
       "      <td>0.0</td>\n",
       "      <td>NaN</td>\n",
       "      <td>S</td>\n",
       "      <td>1</td>\n",
       "      <td>1</td>\n",
       "    </tr>\n",
       "  </tbody>\n",
       "</table>\n",
       "</div>"
      ],
      "text/plain": [
       "     PassengerId  Survived  Pclass                              Name   Sex  \\\n",
       "179          180         0       3               Leonard, Mr. Lionel  male   \n",
       "263          264         0       1             Harrison, Mr. William  male   \n",
       "271          272         1       3      Tornquist, Mr. William Henry  male   \n",
       "277          278         0       2       Parkes, Mr. Francis \"Frank\"  male   \n",
       "302          303         0       3   Johnson, Mr. William Cahoone Jr  male   \n",
       "413          414         0       2    Cunningham, Mr. Alfred Fleming  male   \n",
       "466          467         0       2             Campbell, Mr. William  male   \n",
       "481          482         0       2  Frost, Mr. Anthony Wood \"Archie\"  male   \n",
       "597          598         0       3               Johnson, Mr. Alfred  male   \n",
       "633          634         0       1     Parr, Mr. William Henry Marsh  male   \n",
       "674          675         0       2        Watson, Mr. Ennis Hastings  male   \n",
       "732          733         0       2              Knight, Mr. Robert J  male   \n",
       "806          807         0       1            Andrews, Mr. Thomas Jr  male   \n",
       "815          816         0       1                  Fry, Mr. Richard  male   \n",
       "822          823         0       1   Reuchlin, Jonkheer. John George  male   \n",
       "\n",
       "      Age  Ticket  Fare Cabin Embarked  family_size  Is_Alone  \n",
       "179  36.0    LINE   0.0   NaN        S            1         1  \n",
       "263  40.0  112059   0.0   B94        S            1         1  \n",
       "271  25.0    LINE   0.0   NaN        S            1         1  \n",
       "277   NaN  239853   0.0   NaN        S            1         1  \n",
       "302  19.0    LINE   0.0   NaN        S            1         1  \n",
       "413   NaN  239853   0.0   NaN        S            1         1  \n",
       "466   NaN  239853   0.0   NaN        S            1         1  \n",
       "481   NaN  239854   0.0   NaN        S            1         1  \n",
       "597  49.0    LINE   0.0   NaN        S            1         1  \n",
       "633   NaN  112052   0.0   NaN        S            1         1  \n",
       "674   NaN  239856   0.0   NaN        S            1         1  \n",
       "732   NaN  239855   0.0   NaN        S            1         1  \n",
       "806  39.0  112050   0.0   A36        S            1         1  \n",
       "815   NaN  112058   0.0  B102        S            1         1  \n",
       "822  38.0   19972   0.0   NaN        S            1         1  "
      ]
     },
     "execution_count": 595,
     "metadata": {},
     "output_type": "execute_result"
    }
   ],
   "source": [
    "treino[treino.Fare == 0]"
   ]
  },
  {
   "cell_type": "code",
   "execution_count": 596,
   "id": "25508cb6",
   "metadata": {},
   "outputs": [],
   "source": [
    "# # Calcular a média dos valores não-zero agrupados por Pclass e Sex\n",
    "# fare_mean_by_class_sex = treino_filtrado[treino_filtrado.Fare > 0].groupby(['Pclass', 'Sex','Embarked'])['Fare'].mean()\n",
    "\n",
    "# # Função para substituir os valores zero pelo valor médio correspondente\n",
    "# def replace_zero_fare(row):\n",
    "#     if row['Fare'] == 0:\n",
    "#         return fare_mean_by_class_sex[row['Pclass'], row['Sex'], row['Embarked']]\n",
    "#     return row['Fare']\n",
    "\n",
    "# # Aplicar a função para substituir os valores zero na coluna Fare\n",
    "# treino_filtrado['Fare'] = treino_filtrado.apply(replace_zero_fare, axis=1)\n",
    "# teste_filtrado['Fare'] = teste_filtrado.apply(replace_zero_fare, axis=1)"
   ]
  },
  {
   "cell_type": "code",
   "execution_count": 597,
   "id": "3f387dbc",
   "metadata": {},
   "outputs": [],
   "source": [
    "# for dataset in data:\n",
    "#     dataset['Age_Class']= dataset['Age']* dataset['Pclass']"
   ]
  },
  {
   "cell_type": "markdown",
   "id": "a3854b28",
   "metadata": {},
   "source": [
    "### Cabines"
   ]
  },
  {
   "cell_type": "markdown",
   "id": "a89b91e9",
   "metadata": {},
   "source": [
    "As Cabinas possuem aproximadamente 77% de seus dados ausentes, então poderíamos cogitar em eliminar essa coluna, porém, pesquisando sobre as cabines do RSM Titanic, encontrei a seguinte imagem:\n",
    "\n",
    "<p align=\"center\">\n",
    "    <img src=\"image/setor_cabines.png\" alt=\"Protótipo de imagem das cabinas frontal do RSM Titanic\" width=\"300\">\n",
    "    <img src=\"image/ward_map_class.png\" alt=\"Protótipo de imagem das cabinas leterais do RSM Titanic\" width=\"400\">\n",
    "</p>"
   ]
  },
  {
   "cell_type": "markdown",
   "id": "f6d699b7",
   "metadata": {},
   "source": [
    "A maior parte das instalações e acomodações da Primeira Classe no Titanic situava-se nos conveses superiores, proporcionando aos passageiros um ambiente com menores vibrações e ruídos dos motores. O Convés `A`, assim como a maioria dos conveses `B` e `C`, era dedicado ao espaço de recreação e alojamento da Primeira Classe. Além disso, as acomodações da Primeira Classe estendiam-se por todos os níveis até o Convés `F`, garantindo aos passageiros desta classe um espaço superior em relação às outras classes a bordo.\n",
    "\n",
    "<p align=\"center\">\n",
    "    <img src=\"image/titanic_class.jpg\" width=\"1000\">\n",
    "</p>"
   ]
  },
  {
   "cell_type": "markdown",
   "id": "083dea4c",
   "metadata": {},
   "source": [
    "A partir das localizações conhecidas, podemos tentar analisar o trágico acidente que ocorreu à noite, quando grande parte dos passageiros estava em seus aposentos. Inicialmente, vamos buscar obter informações disponíveis, considerando que temos muitos dados ausentes. Podemos usar essa informação parcial como um adicional para a nossa análise. Se temos informações sobre a cabine, ótimo, podemos incluí-la. Caso não tenhamos essa informação, prosseguiremos normalmente, como se ela não estivesse disponível.\n",
    "\n",
    "Em etapas futuras, podemos tentar aplicar um modelo para prever em qual cabine o passageiro estaria, levando em consideração o valor da passagem e sua classe, buscando uma abordagem mais completa e precisa na análise."
   ]
  },
  {
   "cell_type": "code",
   "execution_count": 598,
   "id": "7987b411",
   "metadata": {},
   "outputs": [],
   "source": [
    "deck = {\"A\": 1, \"B\": 2, \"C\": 3, \"D\": 4, \"E\": 5, \"F\": 6, \"G\": 7}"
   ]
  },
  {
   "cell_type": "markdown",
   "id": "71cf65a9",
   "metadata": {},
   "source": [
    "##### Substituindo os valores ausentes por Zero"
   ]
  },
  {
   "cell_type": "markdown",
   "id": "0a0e8d1b",
   "metadata": {},
   "source": [
    "Para uma ultilização simples, podemos substituir os valores ausentes por zero."
   ]
  },
  {
   "cell_type": "code",
   "execution_count": 599,
   "id": "6072123b",
   "metadata": {},
   "outputs": [],
   "source": [
    "# # Extraindo as letras do conves e transformando em números\n",
    "# for dataset in data:\n",
    "#     dataset['Deck'] = dataset['Cabin'].str.extract(r'([a-gA-G]+)')\n",
    "#     dataset['Deck'] = dataset['Deck'].map(deck)\n",
    "#     dataset['Deck'] = dataset['Deck'].fillna(0)\n",
    "#     dataset['Deck'] = dataset['Deck'].astype(int)\n",
    "#     dataset.drop(['Cabin'], axis=1, inplace=True)"
   ]
  },
  {
   "cell_type": "markdown",
   "id": "7e4aab04",
   "metadata": {},
   "source": [
    "#### Aplicando metodo de aprendizado semi-supervisionado Co-training"
   ]
  },
  {
   "cell_type": "markdown",
   "id": "50d36c9c",
   "metadata": {},
   "source": [
    "O co-training é uma técnica de aprendizado de máquina semi-supervisionado que envolve treinar modelos usando múltiplas fontes de dados, onde cada fonte fornece uma visão diferente do problema. Essa abordagem é útil quando você tem uma grande quantidade de dados não rotulados e uma pequena quantidade de dados rotulados disponíveis."
   ]
  },
  {
   "cell_type": "code",
   "execution_count": 600,
   "id": "037bd488",
   "metadata": {},
   "outputs": [],
   "source": [
    "# Obtendo a copia do dataset que iremos treinar\n",
    "co_training = treino_filtrado.copy()\n",
    "\n",
    "# Extraindo somente o convés das cabines\n",
    "co_training['Cabin'] = co_training['Cabin'].str.extract(r'([a-gA-G]+)')\n",
    "\n",
    "# Convertendo categorio em numerico\n",
    "co_training = pd.get_dummies(co_training, columns=['Sex'])   \n",
    "\n",
    "\n",
    "# Dividindo os dados em um conjunto rotulado e outro não rotulado\n",
    "labeled_data = co_training[co_training['Cabin'].notnull()]\n",
    "unlabeled_data = co_training[co_training['Cabin'].isnull()]\n",
    "\n",
    "# Selecionando as colunas relevantes para treinamento\n",
    "feature_columns = ['Pclass', 'Sex_male', 'Sex_female','Age', 'Fare']\n",
    "X_labeled = labeled_data[feature_columns]\n",
    "y_labeled = labeled_data['Cabin']\n",
    "X_unlabeled = unlabeled_data[feature_columns]\n",
    "\n",
    "# Dividindo o conjunto rotulado em treinamento e validação\n",
    "X_train, X_val, y_train, y_val = train_test_split(X_labeled, y_labeled, test_size=0.2, random_state=42)\n",
    "\n",
    "# Criando dois modelos de árvore de decisão com diferentes conjuntos de características\n",
    "model_1 = DecisionTreeClassifier(random_state=42)\n",
    "model_2 = DecisionTreeClassifier(random_state=42)\n",
    "\n",
    "# Treinando os modelos nos dados rotulados\n",
    "model_1.fit(X_train, y_train)\n",
    "model_2.fit(X_train[['Pclass', 'Sex_male', 'Sex_female']], y_train)  # Usamos duas características específicas como exemplo\n",
    "\n",
    "# Classificando os dados não rotulados e selecionando os mais confiantes\n",
    "unlabeled_predictions_1 = model_1.predict(X_unlabeled)\n",
    "unlabeled_predictions_2 = model_2.predict(X_unlabeled[['Pclass', 'Sex_male', 'Sex_female']])\n",
    "\n",
    "confident_indices_1 = np.where(unlabeled_predictions_1 == unlabeled_predictions_2)[0]\n",
    "confident_unlabeled_data = X_unlabeled.iloc[confident_indices_1]\n",
    "\n",
    "# Adicionando os exemplos mais confiantes ao conjunto rotulado e treinando novamente os modelos\n",
    "X_train = pd.concat([X_train, confident_unlabeled_data])\n",
    "y_train = pd.concat([y_train, pd.Series(unlabeled_predictions_1[confident_indices_1])])\n",
    "\n",
    "model_1.fit(X_train, y_train)\n",
    "model_2.fit(X_train[['Pclass', 'Sex_male', 'Sex_female']], y_train)  # Usamos as mesmas características selecionadas anteriormente\n",
    "\n",
    "\n",
    "deck = {\"A\": 1, \"B\": 2, \"C\": 3, \"D\": 4, \"E\": 5, \"F\": 6, \"G\": 7}\n",
    "\n",
    "# Agora podemos usar os modelos treinados para fazer previsões em novos dados\n",
    "treino_df = pd.get_dummies(treino_filtrado, columns=['Sex'])  \n",
    "teste_df = pd.get_dummies(teste_filtrado, columns=['Sex'])  \n",
    "data = [treino_df, teste_df]\n",
    "for dataset in data:\n",
    "    # dataset['Sex'] = dataset.Sex.apply(lambda x: 0 if x == 'male' else 1).astype(int)\n",
    "    dataset['Deck'] = dataset['Cabin'].str.extract(r'([a-gA-G]+)')\n",
    "    predictions_1 = model_1.predict(dataset[feature_columns])\n",
    "    dataset.loc[dataset['Deck'].isnull(), 'Deck'] = predictions_1[dataset['Deck'].isnull()]\n",
    "    dataset['Deck'] = dataset['Deck'].map(deck)\n",
    "    dataset.drop(['Cabin'], axis=1, inplace=True)\n",
    "\n",
    "treino_filtrado = treino_df.copy()\n",
    "teste_filtrado = teste_df.copy()"
   ]
  },
  {
   "cell_type": "markdown",
   "id": "bf463260",
   "metadata": {},
   "source": [
    "### Convertendo Recursos "
   ]
  },
  {
   "cell_type": "markdown",
   "id": "6d2b058c",
   "metadata": {},
   "source": [
    "#### Gênero"
   ]
  },
  {
   "cell_type": "markdown",
   "id": "2c5963a0",
   "metadata": {},
   "source": [
    "Agora podemos converter as strings em valores numéricos, pois a maioria dos algoritmos de modelo necessitam dessa conversão.\n",
    "\n",
    "Vamos começar convertendo a coluna `Sex` em númerico, e como não temos um sentido ordinal, podemos aplicar o one-hot-encoding que significa em transformar os valores em variáveis(colunas) e binárias."
   ]
  },
  {
   "cell_type": "code",
   "execution_count": null,
   "id": "3be63937",
   "metadata": {},
   "outputs": [],
   "source": [
    "treino_filtrado = pd.get_dummies(treino_filtrado, columns=['Sex'])   \n",
    "teste_filtrado = pd.get_dummies(teste_filtrado, columns=['Sex'])   "
   ]
  },
  {
   "cell_type": "code",
   "execution_count": null,
   "id": "c4eb9ea8",
   "metadata": {},
   "outputs": [],
   "source": [
    "# treino_filtrado = pd.get_dummies(treino_filtrado, columns=['Sex'])\n",
    "# teste_filtrado = pd.get_dummies(teste_filtrado, columns=['Sex'])   \n",
    "# # for dataset in data:\n",
    "# #     dataset['Sex'] = dataset.Sex.apply(lambda x: 0 if x == 'male' else 1).astype(int)"
   ]
  },
  {
   "cell_type": "markdown",
   "id": "63bce11f",
   "metadata": {},
   "source": [
    "#### Embarked"
   ]
  },
  {
   "cell_type": "markdown",
   "id": "613c9283",
   "metadata": {},
   "source": [
    "Seguindo a mesma logica do recurso gênero"
   ]
  },
  {
   "cell_type": "code",
   "execution_count": 602,
   "id": "24e3e757",
   "metadata": {},
   "outputs": [],
   "source": [
    "treino_filtrado = pd.get_dummies(treino_filtrado, columns=['Embarked'])   \n",
    "teste_filtrado = pd.get_dummies(teste_filtrado, columns=['Embarked'])   "
   ]
  },
  {
   "cell_type": "code",
   "execution_count": 558,
   "id": "9cbc6a95",
   "metadata": {
    "code_folding": []
   },
   "outputs": [],
   "source": [
    "# data = [treino_filtrado, teste_filtrado]\n",
    "# embarked = {'S': 1, 'C': 2, 'Q': 3}\n",
    "# for dataset in data:\n",
    "#     dataset.Embarked = dataset.Embarked.map(embarked).astype(int)"
   ]
  },
  {
   "cell_type": "markdown",
   "id": "d0dc15a8",
   "metadata": {},
   "source": [
    "#### Ticket"
   ]
  },
  {
   "cell_type": "markdown",
   "id": "4fcd5465",
   "metadata": {},
   "source": [
    "O recurso \"Ticket\" possui 681 tickets exclusivos, porém não apresenta grande relevância para nós. Portanto, optaremos por descartá-lo."
   ]
  },
  {
   "cell_type": "code",
   "execution_count": 603,
   "id": "9ed6f81c",
   "metadata": {},
   "outputs": [],
   "source": [
    "treino_filtrado.drop(['Ticket'], axis=1, inplace = True)\n",
    "teste_filtrado.drop(['Ticket'], axis=1, inplace = True)"
   ]
  },
  {
   "cell_type": "markdown",
   "id": "1fb4ac1e",
   "metadata": {},
   "source": [
    "### Avaliação"
   ]
  },
  {
   "cell_type": "code",
   "execution_count": 358,
   "id": "2a7f8d5f",
   "metadata": {},
   "outputs": [],
   "source": [
    "from collections import defaultdict\n",
    "\n",
    "tabela_resultados = defaultdict(list)\n",
    "\n",
    "models = {\n",
    "       'XGBooster': XGBClassifier(learning_rate=0.1, max_depth=3, n_estimators=200, min_child_weight=1),\n",
    "        'Regressão Logistica': LogisticRegression(max_iter=800, C=1.0, penalty='l1', solver='liblinear'),\n",
    "        'Árvore de decisão': DecisionTreeClassifier(max_depth=10, min_samples_leaf=1, min_samples_split=10),\n",
    "        'Perceptron': Perceptron(alpha=0.01, eta0=0.001, max_iter=1000, penalty='elasticnet', tol=0.001),\n",
    "        'Random Forest': RandomForestClassifier(n_estimators=100, max_depth=10, min_samples_split=10, min_samples_leaf=1),\n",
    "        'GradientBoostingClassifier': GradientBoostingClassifier(n_estimators=100, learning_rate=1.0, max_depth=1, random_state=0)\n",
    "}    \n",
    "def validacao(X, y):\n",
    "    kfold = StratifiedKFold(n_splits=5, shuffle=False)\n",
    "         \n",
    "    for model_name, model in models.items():\n",
    "        cv_results = cross_val_score(model, X, y, cv=kfold, scoring='accuracy')\n",
    "        media_acuracia = cv_results.mean()\n",
    "        \n",
    "        if model_name not in tabela_resultados:\n",
    "            tabela_resultados[model_name] = []\n",
    "        tabela_resultados[model_name].append(media_acuracia)\n",
    "        \n",
    "    return tabela_resultados"
   ]
  },
  {
   "cell_type": "code",
   "execution_count": 604,
   "id": "a3960313",
   "metadata": {},
   "outputs": [
    {
     "data": {
      "text/html": [
       "<div>\n",
       "<style scoped>\n",
       "    .dataframe tbody tr th:only-of-type {\n",
       "        vertical-align: middle;\n",
       "    }\n",
       "\n",
       "    .dataframe tbody tr th {\n",
       "        vertical-align: top;\n",
       "    }\n",
       "\n",
       "    .dataframe thead th {\n",
       "        text-align: right;\n",
       "    }\n",
       "</style>\n",
       "<table border=\"1\" class=\"dataframe\">\n",
       "  <thead>\n",
       "    <tr style=\"text-align: right;\">\n",
       "      <th></th>\n",
       "      <th>1 Tentativa</th>\n",
       "      <th>2 Tentativa</th>\n",
       "      <th>3 Tentativa</th>\n",
       "      <th>4 Tentativa</th>\n",
       "      <th>5 Tentativa</th>\n",
       "    </tr>\n",
       "  </thead>\n",
       "  <tbody>\n",
       "    <tr>\n",
       "      <th>XGBooster</th>\n",
       "      <td>0.823859</td>\n",
       "      <td>0.841743</td>\n",
       "      <td>0.826062</td>\n",
       "      <td>0.829421</td>\n",
       "      <td>0.832779</td>\n",
       "    </tr>\n",
       "    <tr>\n",
       "      <th>Regressão Logistica</th>\n",
       "      <td>0.784540</td>\n",
       "      <td>0.795750</td>\n",
       "      <td>0.800239</td>\n",
       "      <td>0.784527</td>\n",
       "      <td>0.783397</td>\n",
       "    </tr>\n",
       "    <tr>\n",
       "      <th>Árvore de decisão</th>\n",
       "      <td>0.805913</td>\n",
       "      <td>0.812598</td>\n",
       "      <td>0.799127</td>\n",
       "      <td>0.784558</td>\n",
       "      <td>0.808110</td>\n",
       "    </tr>\n",
       "    <tr>\n",
       "      <th>Perceptron</th>\n",
       "      <td>0.642000</td>\n",
       "      <td>0.684728</td>\n",
       "      <td>0.716138</td>\n",
       "      <td>0.635196</td>\n",
       "      <td>0.675720</td>\n",
       "    </tr>\n",
       "    <tr>\n",
       "      <th>Random Forest</th>\n",
       "      <td>0.835026</td>\n",
       "      <td>0.824914</td>\n",
       "      <td>0.829402</td>\n",
       "      <td>0.827192</td>\n",
       "      <td>0.832773</td>\n",
       "    </tr>\n",
       "    <tr>\n",
       "      <th>GradientBoostingClassifier</th>\n",
       "      <td>0.819327</td>\n",
       "      <td>0.808104</td>\n",
       "      <td>0.803616</td>\n",
       "      <td>0.819321</td>\n",
       "      <td>0.819321</td>\n",
       "    </tr>\n",
       "  </tbody>\n",
       "</table>\n",
       "</div>"
      ],
      "text/plain": [
       "                            1 Tentativa  2 Tentativa  3 Tentativa  \\\n",
       "XGBooster                      0.823859     0.841743     0.826062   \n",
       "Regressão Logistica            0.784540     0.795750     0.800239   \n",
       "Árvore de decisão              0.805913     0.812598     0.799127   \n",
       "Perceptron                     0.642000     0.684728     0.716138   \n",
       "Random Forest                  0.835026     0.824914     0.829402   \n",
       "GradientBoostingClassifier     0.819327     0.808104     0.803616   \n",
       "\n",
       "                            4 Tentativa  5 Tentativa  \n",
       "XGBooster                      0.829421     0.832779  \n",
       "Regressão Logistica            0.784527     0.783397  \n",
       "Árvore de decisão              0.784558     0.808110  \n",
       "Perceptron                     0.635196     0.675720  \n",
       "Random Forest                  0.827192     0.832773  \n",
       "GradientBoostingClassifier     0.819321     0.819321  "
      ]
     },
     "execution_count": 604,
     "metadata": {},
     "output_type": "execute_result"
    }
   ],
   "source": [
    "# Código para chamar a função e exibir a tabela:\n",
    "X = treino_filtrado.drop(['Survived'], axis=1)\n",
    "y = treino_filtrado.Survived\n",
    "\n",
    "# Chamada da função\n",
    "tabela_resultados = validacao(X, y)\n",
    "\n",
    "# Mostrar a tabela atualizada\n",
    "results = pd.DataFrame(tabela_resultados)\n",
    "results_transposed = results.transpose()  # Troca linhas por colunas\n",
    "\n",
    "# Renomear as colunas para \"1 tentativa\", \"2 tentativa\", etc.\n",
    "results_transposed.columns = [f\"{i+1} Tentativa\" for i in range(len(results_transposed.columns))]\n",
    "\n",
    "results_transposed"
   ]
  },
  {
   "cell_type": "code",
   "execution_count": null,
   "id": "8be76d22",
   "metadata": {},
   "outputs": [
    {
     "data": {
      "text/html": [
       "<div>\n",
       "<style scoped>\n",
       "    .dataframe tbody tr th:only-of-type {\n",
       "        vertical-align: middle;\n",
       "    }\n",
       "\n",
       "    .dataframe tbody tr th {\n",
       "        vertical-align: top;\n",
       "    }\n",
       "\n",
       "    .dataframe thead th {\n",
       "        text-align: right;\n",
       "    }\n",
       "</style>\n",
       "<table border=\"1\" class=\"dataframe\">\n",
       "  <thead>\n",
       "    <tr style=\"text-align: right;\">\n",
       "      <th></th>\n",
       "      <th>Pclass</th>\n",
       "      <th>Age</th>\n",
       "      <th>Fare</th>\n",
       "      <th>Titulo</th>\n",
       "      <th>Is_Alone</th>\n",
       "      <th>Sex_female</th>\n",
       "      <th>Sex_male</th>\n",
       "      <th>Embarked_C</th>\n",
       "      <th>Embarked_Q</th>\n",
       "      <th>Embarked_S</th>\n",
       "    </tr>\n",
       "  </thead>\n",
       "  <tbody>\n",
       "    <tr>\n",
       "      <th>0</th>\n",
       "      <td>3</td>\n",
       "      <td>22.0</td>\n",
       "      <td>7.2500</td>\n",
       "      <td>1</td>\n",
       "      <td>0</td>\n",
       "      <td>0</td>\n",
       "      <td>1</td>\n",
       "      <td>0</td>\n",
       "      <td>0</td>\n",
       "      <td>1</td>\n",
       "    </tr>\n",
       "    <tr>\n",
       "      <th>1</th>\n",
       "      <td>1</td>\n",
       "      <td>38.0</td>\n",
       "      <td>71.2833</td>\n",
       "      <td>3</td>\n",
       "      <td>0</td>\n",
       "      <td>1</td>\n",
       "      <td>0</td>\n",
       "      <td>1</td>\n",
       "      <td>0</td>\n",
       "      <td>0</td>\n",
       "    </tr>\n",
       "    <tr>\n",
       "      <th>2</th>\n",
       "      <td>3</td>\n",
       "      <td>26.0</td>\n",
       "      <td>7.9250</td>\n",
       "      <td>2</td>\n",
       "      <td>1</td>\n",
       "      <td>1</td>\n",
       "      <td>0</td>\n",
       "      <td>0</td>\n",
       "      <td>0</td>\n",
       "      <td>1</td>\n",
       "    </tr>\n",
       "    <tr>\n",
       "      <th>3</th>\n",
       "      <td>1</td>\n",
       "      <td>35.0</td>\n",
       "      <td>53.1000</td>\n",
       "      <td>3</td>\n",
       "      <td>0</td>\n",
       "      <td>1</td>\n",
       "      <td>0</td>\n",
       "      <td>0</td>\n",
       "      <td>0</td>\n",
       "      <td>1</td>\n",
       "    </tr>\n",
       "    <tr>\n",
       "      <th>4</th>\n",
       "      <td>3</td>\n",
       "      <td>35.0</td>\n",
       "      <td>8.0500</td>\n",
       "      <td>1</td>\n",
       "      <td>1</td>\n",
       "      <td>0</td>\n",
       "      <td>1</td>\n",
       "      <td>0</td>\n",
       "      <td>0</td>\n",
       "      <td>1</td>\n",
       "    </tr>\n",
       "  </tbody>\n",
       "</table>\n",
       "</div>"
      ],
      "text/plain": [
       "   Pclass   Age     Fare  Titulo  Is_Alone  Sex_female  Sex_male  Embarked_C  \\\n",
       "0       3  22.0   7.2500       1         0           0         1           0   \n",
       "1       1  38.0  71.2833       3         0           1         0           1   \n",
       "2       3  26.0   7.9250       2         1           1         0           0   \n",
       "3       1  35.0  53.1000       3         0           1         0           0   \n",
       "4       3  35.0   8.0500       1         1           0         1           0   \n",
       "\n",
       "   Embarked_Q  Embarked_S  \n",
       "0           0           1  \n",
       "1           0           0  \n",
       "2           0           1  \n",
       "3           0           1  \n",
       "4           0           1  "
      ]
     },
     "execution_count": 257,
     "metadata": {},
     "output_type": "execute_result"
    }
   ],
   "source": [
    "X.head()"
   ]
  },
  {
   "cell_type": "markdown",
   "id": "0dba8f7b",
   "metadata": {},
   "source": [
    "## Salvando arquivo para submissão no Kaggle "
   ]
  },
  {
   "cell_type": "code",
   "execution_count": null,
   "id": "14dddd93",
   "metadata": {},
   "outputs": [],
   "source": [
    "X_test = teste_filtrado.drop(['PassengerId'],axis=1)\n",
    "X_test = X_test[X.columns]\n",
    "\n",
    "for model_name, model in models.items():\n",
    "    model = model.fit(X,y)\n",
    "    y_pred = model.predict(X_test)\n",
    "    df = pd.DataFrame({'PassengerId': teste_filtrado.PassengerId,'Survived': y_pred})\n",
    "    if model_name == 'Random Forest':\n",
    "        randomForest = df.copy()\n",
    "    df.to_csv(f'predictions/{model_name}.csv', index=False)"
   ]
  }
 ],
 "metadata": {
  "kernelspec": {
   "display_name": "Python 3 (ipykernel)",
   "language": "python",
   "name": "python3"
  },
  "language_info": {
   "codemirror_mode": {
    "name": "ipython",
    "version": 3
   },
   "file_extension": ".py",
   "mimetype": "text/x-python",
   "name": "python",
   "nbconvert_exporter": "python",
   "pygments_lexer": "ipython3",
   "version": "3.9.4"
  }
 },
 "nbformat": 4,
 "nbformat_minor": 5
}
