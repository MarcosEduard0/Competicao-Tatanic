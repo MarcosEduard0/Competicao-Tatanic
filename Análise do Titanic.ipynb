{
 "cells": [
  {
   "cell_type": "markdown",
   "id": "63baa6ef",
   "metadata": {},
   "source": [
    "# Titanic - Desafio de Aprendizado de Máquina\n",
    "\n",
    "<p align=\"center\">\n",
    "  <img src=\"https://sigmoidal.ai/wp-content/uploads/2022/06/titanic.jpg\" alt=\"Titanic\">\n",
    "</p>\n",
    "\n",
    "A tragédia do Titanic, ocorrida em abril de 1912, permanece como um dos eventos mais icônicos e trágicos da história da humanidade. Esse desastre marítimo não apenas tirou a vida de mais de 1.500 pessoas, mas também destacou questões cruciais relacionadas à engenharia naval, política de segurança marítima e desigualdade social. Neste notebook de análise, examinaremos profundamente os diversos aspectos que envolvem o naufrágio do Titanic, desde as circunstâncias que levaram ao acidente até o legado duradouro que deixou no mundo. Utilizando dados históricos, testemunhos de sobreviventes e insights de especialistas, nossa análise visa lançar luz sobre as lições aprendidas a partir deste trágico evento e como ele continua a moldar a sociedade e as indústrias até os dias atuais."
   ]
  },
  {
   "cell_type": "markdown",
   "id": "10230a7d",
   "metadata": {},
   "source": [
    "**Dicionário**\n",
    "\n",
    "| Variável | Definição                                | Chave                                          |\n",
    "| -------- | ---------------------------------------- | ---------------------------------------------- |\n",
    "| survival | Sobrevivel                               | 0 = Não, 1 = Sim                               |\n",
    "| pclass   | Classe do bilhete                        | 1 = 1º Classe, 2 = 2º Classe, 3 = 3º Classe    |\n",
    "| name     | Nome do passageiro                       |                                                |\n",
    "| sex      | Sexo                                     |                                                |\n",
    "| Age      | Idade em anos                            |                                                |\n",
    "| sibsp    | Nº de irmãos/cônjuges a bordo            |                                                |\n",
    "| parch    | Nº de pais/filhos a bordo                |                                                |\n",
    "| ticket   | Número do bilhete                        |                                                |\n",
    "| fare     | Valor da passagem                        |                                                |\n",
    "| cabin    | Número de cabine                         |                                                |\n",
    "| embarked | Porto de embarque                        | C = Cherbourg, Q = Queenstown, S = Southampton |"
   ]
  },
  {
   "cell_type": "code",
   "execution_count": 236,
   "id": "ca06f81f",
   "metadata": {},
   "outputs": [],
   "source": [
    "import pandas as pd\n",
    "import numpy as np\n",
    "from sklearn.preprocessing import LabelEncoder\n",
    "from sklearn.ensemble import RandomForestClassifier\n",
    "from sklearn.linear_model import LogisticRegression, Perceptron\n",
    "from sklearn.ensemble import GradientBoostingClassifier\n",
    "from sklearn.tree import DecisionTreeClassifier\n",
    "from xgboost import XGBClassifier\n",
    "from sklearn.model_selection import train_test_split, StratifiedKFold, cross_val_score, GridSearchCV\n",
    "from sklearn.metrics import confusion_matrix, accuracy_score\n",
    "import warnings\n",
    "import matplotlib.pyplot as plt\n",
    "import seaborn as sns\n",
    "\n",
    "plt.style.use('fivethirtyeight')\n",
    "warnings.simplefilter(\"ignore\")"
   ]
  },
  {
   "cell_type": "code",
   "execution_count": 237,
   "id": "3340d81a",
   "metadata": {},
   "outputs": [
    {
     "name": "stdout",
     "output_type": "stream",
     "text": [
      "Total de linhas: 891\n",
      "Total de colunas: 12\n"
     ]
    },
    {
     "data": {
      "text/html": [
       "<div>\n",
       "<style scoped>\n",
       "    .dataframe tbody tr th:only-of-type {\n",
       "        vertical-align: middle;\n",
       "    }\n",
       "\n",
       "    .dataframe tbody tr th {\n",
       "        vertical-align: top;\n",
       "    }\n",
       "\n",
       "    .dataframe thead th {\n",
       "        text-align: right;\n",
       "    }\n",
       "</style>\n",
       "<table border=\"1\" class=\"dataframe\">\n",
       "  <thead>\n",
       "    <tr style=\"text-align: right;\">\n",
       "      <th></th>\n",
       "      <th>PassengerId</th>\n",
       "      <th>Survived</th>\n",
       "      <th>Pclass</th>\n",
       "      <th>Name</th>\n",
       "      <th>Sex</th>\n",
       "      <th>Age</th>\n",
       "      <th>SibSp</th>\n",
       "      <th>Parch</th>\n",
       "      <th>Ticket</th>\n",
       "      <th>Fare</th>\n",
       "      <th>Cabin</th>\n",
       "      <th>Embarked</th>\n",
       "    </tr>\n",
       "  </thead>\n",
       "  <tbody>\n",
       "    <tr>\n",
       "      <th>0</th>\n",
       "      <td>1</td>\n",
       "      <td>0</td>\n",
       "      <td>3</td>\n",
       "      <td>Braund, Mr. Owen Harris</td>\n",
       "      <td>male</td>\n",
       "      <td>22.0</td>\n",
       "      <td>1</td>\n",
       "      <td>0</td>\n",
       "      <td>A/5 21171</td>\n",
       "      <td>7.2500</td>\n",
       "      <td>NaN</td>\n",
       "      <td>S</td>\n",
       "    </tr>\n",
       "    <tr>\n",
       "      <th>1</th>\n",
       "      <td>2</td>\n",
       "      <td>1</td>\n",
       "      <td>1</td>\n",
       "      <td>Cumings, Mrs. John Bradley (Florence Briggs Th...</td>\n",
       "      <td>female</td>\n",
       "      <td>38.0</td>\n",
       "      <td>1</td>\n",
       "      <td>0</td>\n",
       "      <td>PC 17599</td>\n",
       "      <td>71.2833</td>\n",
       "      <td>C85</td>\n",
       "      <td>C</td>\n",
       "    </tr>\n",
       "    <tr>\n",
       "      <th>2</th>\n",
       "      <td>3</td>\n",
       "      <td>1</td>\n",
       "      <td>3</td>\n",
       "      <td>Heikkinen, Miss. Laina</td>\n",
       "      <td>female</td>\n",
       "      <td>26.0</td>\n",
       "      <td>0</td>\n",
       "      <td>0</td>\n",
       "      <td>STON/O2. 3101282</td>\n",
       "      <td>7.9250</td>\n",
       "      <td>NaN</td>\n",
       "      <td>S</td>\n",
       "    </tr>\n",
       "  </tbody>\n",
       "</table>\n",
       "</div>"
      ],
      "text/plain": [
       "   PassengerId  Survived  Pclass  \\\n",
       "0            1         0       3   \n",
       "1            2         1       1   \n",
       "2            3         1       3   \n",
       "\n",
       "                                                Name     Sex   Age  SibSp  \\\n",
       "0                            Braund, Mr. Owen Harris    male  22.0      1   \n",
       "1  Cumings, Mrs. John Bradley (Florence Briggs Th...  female  38.0      1   \n",
       "2                             Heikkinen, Miss. Laina  female  26.0      0   \n",
       "\n",
       "   Parch            Ticket     Fare Cabin Embarked  \n",
       "0      0         A/5 21171   7.2500   NaN        S  \n",
       "1      0          PC 17599  71.2833   C85        C  \n",
       "2      0  STON/O2. 3101282   7.9250   NaN        S  "
      ]
     },
     "execution_count": 237,
     "metadata": {},
     "output_type": "execute_result"
    }
   ],
   "source": [
    "# Visualizando a base de treino\n",
    "treino = pd.read_csv('train.csv')\n",
    "rows, cols = treino.shape\n",
    "print(f'Total de linhas: {rows}\\nTotal de colunas: {cols}')\n",
    "treino.head(3)"
   ]
  },
  {
   "cell_type": "markdown",
   "id": "f3be84d2",
   "metadata": {},
   "source": [
    "- **Base de treino**"
   ]
  },
  {
   "cell_type": "code",
   "execution_count": 238,
   "id": "bc6de0a9",
   "metadata": {},
   "outputs": [
    {
     "name": "stdout",
     "output_type": "stream",
     "text": [
      "<class 'pandas.core.frame.DataFrame'>\n",
      "RangeIndex: 891 entries, 0 to 890\n",
      "Data columns (total 12 columns):\n",
      " #   Column       Non-Null Count  Dtype  \n",
      "---  ------       --------------  -----  \n",
      " 0   PassengerId  891 non-null    int64  \n",
      " 1   Survived     891 non-null    int64  \n",
      " 2   Pclass       891 non-null    int64  \n",
      " 3   Name         891 non-null    object \n",
      " 4   Sex          891 non-null    object \n",
      " 5   Age          714 non-null    float64\n",
      " 6   SibSp        891 non-null    int64  \n",
      " 7   Parch        891 non-null    int64  \n",
      " 8   Ticket       891 non-null    object \n",
      " 9   Fare         891 non-null    float64\n",
      " 10  Cabin        204 non-null    object \n",
      " 11  Embarked     889 non-null    object \n",
      "dtypes: float64(2), int64(5), object(5)\n",
      "memory usage: 83.7+ KB\n"
     ]
    }
   ],
   "source": [
    "# Verificando as informações da base\n",
    "treino.info()"
   ]
  },
  {
   "cell_type": "code",
   "execution_count": 239,
   "id": "a4b8eff2",
   "metadata": {},
   "outputs": [
    {
     "data": {
      "text/html": [
       "<div>\n",
       "<style scoped>\n",
       "    .dataframe tbody tr th:only-of-type {\n",
       "        vertical-align: middle;\n",
       "    }\n",
       "\n",
       "    .dataframe tbody tr th {\n",
       "        vertical-align: top;\n",
       "    }\n",
       "\n",
       "    .dataframe thead th {\n",
       "        text-align: right;\n",
       "    }\n",
       "</style>\n",
       "<table border=\"1\" class=\"dataframe\">\n",
       "  <thead>\n",
       "    <tr style=\"text-align: right;\">\n",
       "      <th></th>\n",
       "      <th>count</th>\n",
       "      <th>mean</th>\n",
       "      <th>std</th>\n",
       "      <th>min</th>\n",
       "      <th>25%</th>\n",
       "      <th>50%</th>\n",
       "      <th>75%</th>\n",
       "      <th>max</th>\n",
       "    </tr>\n",
       "  </thead>\n",
       "  <tbody>\n",
       "    <tr>\n",
       "      <th>PassengerId</th>\n",
       "      <td>891.0</td>\n",
       "      <td>446.000000</td>\n",
       "      <td>257.353842</td>\n",
       "      <td>1.00</td>\n",
       "      <td>223.5000</td>\n",
       "      <td>446.0000</td>\n",
       "      <td>668.5</td>\n",
       "      <td>891.0000</td>\n",
       "    </tr>\n",
       "    <tr>\n",
       "      <th>Survived</th>\n",
       "      <td>891.0</td>\n",
       "      <td>0.383838</td>\n",
       "      <td>0.486592</td>\n",
       "      <td>0.00</td>\n",
       "      <td>0.0000</td>\n",
       "      <td>0.0000</td>\n",
       "      <td>1.0</td>\n",
       "      <td>1.0000</td>\n",
       "    </tr>\n",
       "    <tr>\n",
       "      <th>Pclass</th>\n",
       "      <td>891.0</td>\n",
       "      <td>2.308642</td>\n",
       "      <td>0.836071</td>\n",
       "      <td>1.00</td>\n",
       "      <td>2.0000</td>\n",
       "      <td>3.0000</td>\n",
       "      <td>3.0</td>\n",
       "      <td>3.0000</td>\n",
       "    </tr>\n",
       "    <tr>\n",
       "      <th>Age</th>\n",
       "      <td>714.0</td>\n",
       "      <td>29.699118</td>\n",
       "      <td>14.526497</td>\n",
       "      <td>0.42</td>\n",
       "      <td>20.1250</td>\n",
       "      <td>28.0000</td>\n",
       "      <td>38.0</td>\n",
       "      <td>80.0000</td>\n",
       "    </tr>\n",
       "    <tr>\n",
       "      <th>SibSp</th>\n",
       "      <td>891.0</td>\n",
       "      <td>0.523008</td>\n",
       "      <td>1.102743</td>\n",
       "      <td>0.00</td>\n",
       "      <td>0.0000</td>\n",
       "      <td>0.0000</td>\n",
       "      <td>1.0</td>\n",
       "      <td>8.0000</td>\n",
       "    </tr>\n",
       "    <tr>\n",
       "      <th>Parch</th>\n",
       "      <td>891.0</td>\n",
       "      <td>0.381594</td>\n",
       "      <td>0.806057</td>\n",
       "      <td>0.00</td>\n",
       "      <td>0.0000</td>\n",
       "      <td>0.0000</td>\n",
       "      <td>0.0</td>\n",
       "      <td>6.0000</td>\n",
       "    </tr>\n",
       "    <tr>\n",
       "      <th>Fare</th>\n",
       "      <td>891.0</td>\n",
       "      <td>32.204208</td>\n",
       "      <td>49.693429</td>\n",
       "      <td>0.00</td>\n",
       "      <td>7.9104</td>\n",
       "      <td>14.4542</td>\n",
       "      <td>31.0</td>\n",
       "      <td>512.3292</td>\n",
       "    </tr>\n",
       "  </tbody>\n",
       "</table>\n",
       "</div>"
      ],
      "text/plain": [
       "             count        mean         std   min       25%       50%    75%  \\\n",
       "PassengerId  891.0  446.000000  257.353842  1.00  223.5000  446.0000  668.5   \n",
       "Survived     891.0    0.383838    0.486592  0.00    0.0000    0.0000    1.0   \n",
       "Pclass       891.0    2.308642    0.836071  1.00    2.0000    3.0000    3.0   \n",
       "Age          714.0   29.699118   14.526497  0.42   20.1250   28.0000   38.0   \n",
       "SibSp        891.0    0.523008    1.102743  0.00    0.0000    0.0000    1.0   \n",
       "Parch        891.0    0.381594    0.806057  0.00    0.0000    0.0000    0.0   \n",
       "Fare         891.0   32.204208   49.693429  0.00    7.9104   14.4542   31.0   \n",
       "\n",
       "                  max  \n",
       "PassengerId  891.0000  \n",
       "Survived       1.0000  \n",
       "Pclass         3.0000  \n",
       "Age           80.0000  \n",
       "SibSp          8.0000  \n",
       "Parch          6.0000  \n",
       "Fare         512.3292  "
      ]
     },
     "execution_count": 239,
     "metadata": {},
     "output_type": "execute_result"
    }
   ],
   "source": [
    "# analisando dados estatísticos\n",
    "treino.describe().T"
   ]
  },
  {
   "cell_type": "markdown",
   "id": "b1d05e9a",
   "metadata": {},
   "source": [
    "Temos uma média de idade em torno de 29 anos, sendo o máximo com 80 anos. Para a época de 1912, a expectativa de vida era entre 50 a 60 anos. É assustador quando comparamos com a idade que nossos avós alcançam hoje em dia. Se olharmos para a expectativa de vida no Brasil naquela época, era de apenas 33,7 anos. Realmente impressionante! "
   ]
  },
  {
   "cell_type": "markdown",
   "id": "3ad2878e",
   "metadata": {},
   "source": [
    "O atributo Fare (passagem) está estranho, com uma média de 32,20 e uma mediana de 14,45. Os valores estão um pouco distorcidos."
   ]
  },
  {
   "cell_type": "code",
   "execution_count": 240,
   "id": "279f17dc",
   "metadata": {},
   "outputs": [
    {
     "data": {
      "text/plain": [
       "PassengerId     0.00\n",
       "Survived        0.00\n",
       "Pclass          0.00\n",
       "Name            0.00\n",
       "Sex             0.00\n",
       "Age            19.87\n",
       "SibSp           0.00\n",
       "Parch           0.00\n",
       "Ticket          0.00\n",
       "Fare            0.00\n",
       "Cabin          77.10\n",
       "Embarked        0.22\n",
       "dtype: float64"
      ]
     },
     "execution_count": 240,
     "metadata": {},
     "output_type": "execute_result"
    }
   ],
   "source": [
    "# Verificando porcentagem de valores ausentes\n",
    "round(treino.isnull().mean()*100,2)"
   ]
  },
  {
   "cell_type": "markdown",
   "id": "9c7dd9fe",
   "metadata": {},
   "source": [
    "- **Base de teste**"
   ]
  },
  {
   "cell_type": "code",
   "execution_count": 241,
   "id": "d287d646",
   "metadata": {},
   "outputs": [],
   "source": [
    "teste = pd.read_csv('test.csv')"
   ]
  },
  {
   "cell_type": "code",
   "execution_count": 242,
   "id": "568c777e",
   "metadata": {},
   "outputs": [
    {
     "name": "stdout",
     "output_type": "stream",
     "text": [
      "<class 'pandas.core.frame.DataFrame'>\n",
      "RangeIndex: 418 entries, 0 to 417\n",
      "Data columns (total 11 columns):\n",
      " #   Column       Non-Null Count  Dtype  \n",
      "---  ------       --------------  -----  \n",
      " 0   PassengerId  418 non-null    int64  \n",
      " 1   Pclass       418 non-null    int64  \n",
      " 2   Name         418 non-null    object \n",
      " 3   Sex          418 non-null    object \n",
      " 4   Age          332 non-null    float64\n",
      " 5   SibSp        418 non-null    int64  \n",
      " 6   Parch        418 non-null    int64  \n",
      " 7   Ticket       418 non-null    object \n",
      " 8   Fare         417 non-null    float64\n",
      " 9   Cabin        91 non-null     object \n",
      " 10  Embarked     418 non-null    object \n",
      "dtypes: float64(2), int64(4), object(5)\n",
      "memory usage: 36.0+ KB\n"
     ]
    }
   ],
   "source": [
    "# Verificando as informações da base\n",
    "teste.info()"
   ]
  },
  {
   "cell_type": "code",
   "execution_count": 243,
   "id": "e4df2fb1",
   "metadata": {},
   "outputs": [
    {
     "data": {
      "text/html": [
       "<div>\n",
       "<style scoped>\n",
       "    .dataframe tbody tr th:only-of-type {\n",
       "        vertical-align: middle;\n",
       "    }\n",
       "\n",
       "    .dataframe tbody tr th {\n",
       "        vertical-align: top;\n",
       "    }\n",
       "\n",
       "    .dataframe thead th {\n",
       "        text-align: right;\n",
       "    }\n",
       "</style>\n",
       "<table border=\"1\" class=\"dataframe\">\n",
       "  <thead>\n",
       "    <tr style=\"text-align: right;\">\n",
       "      <th></th>\n",
       "      <th>count</th>\n",
       "      <th>mean</th>\n",
       "      <th>std</th>\n",
       "      <th>min</th>\n",
       "      <th>25%</th>\n",
       "      <th>50%</th>\n",
       "      <th>75%</th>\n",
       "      <th>max</th>\n",
       "    </tr>\n",
       "  </thead>\n",
       "  <tbody>\n",
       "    <tr>\n",
       "      <th>PassengerId</th>\n",
       "      <td>418.0</td>\n",
       "      <td>1100.500000</td>\n",
       "      <td>120.810458</td>\n",
       "      <td>892.00</td>\n",
       "      <td>996.2500</td>\n",
       "      <td>1100.5000</td>\n",
       "      <td>1204.75</td>\n",
       "      <td>1309.0000</td>\n",
       "    </tr>\n",
       "    <tr>\n",
       "      <th>Pclass</th>\n",
       "      <td>418.0</td>\n",
       "      <td>2.265550</td>\n",
       "      <td>0.841838</td>\n",
       "      <td>1.00</td>\n",
       "      <td>1.0000</td>\n",
       "      <td>3.0000</td>\n",
       "      <td>3.00</td>\n",
       "      <td>3.0000</td>\n",
       "    </tr>\n",
       "    <tr>\n",
       "      <th>Age</th>\n",
       "      <td>332.0</td>\n",
       "      <td>30.272590</td>\n",
       "      <td>14.181209</td>\n",
       "      <td>0.17</td>\n",
       "      <td>21.0000</td>\n",
       "      <td>27.0000</td>\n",
       "      <td>39.00</td>\n",
       "      <td>76.0000</td>\n",
       "    </tr>\n",
       "    <tr>\n",
       "      <th>SibSp</th>\n",
       "      <td>418.0</td>\n",
       "      <td>0.447368</td>\n",
       "      <td>0.896760</td>\n",
       "      <td>0.00</td>\n",
       "      <td>0.0000</td>\n",
       "      <td>0.0000</td>\n",
       "      <td>1.00</td>\n",
       "      <td>8.0000</td>\n",
       "    </tr>\n",
       "    <tr>\n",
       "      <th>Parch</th>\n",
       "      <td>418.0</td>\n",
       "      <td>0.392344</td>\n",
       "      <td>0.981429</td>\n",
       "      <td>0.00</td>\n",
       "      <td>0.0000</td>\n",
       "      <td>0.0000</td>\n",
       "      <td>0.00</td>\n",
       "      <td>9.0000</td>\n",
       "    </tr>\n",
       "    <tr>\n",
       "      <th>Fare</th>\n",
       "      <td>417.0</td>\n",
       "      <td>35.627188</td>\n",
       "      <td>55.907576</td>\n",
       "      <td>0.00</td>\n",
       "      <td>7.8958</td>\n",
       "      <td>14.4542</td>\n",
       "      <td>31.50</td>\n",
       "      <td>512.3292</td>\n",
       "    </tr>\n",
       "  </tbody>\n",
       "</table>\n",
       "</div>"
      ],
      "text/plain": [
       "             count         mean         std     min       25%        50%  \\\n",
       "PassengerId  418.0  1100.500000  120.810458  892.00  996.2500  1100.5000   \n",
       "Pclass       418.0     2.265550    0.841838    1.00    1.0000     3.0000   \n",
       "Age          332.0    30.272590   14.181209    0.17   21.0000    27.0000   \n",
       "SibSp        418.0     0.447368    0.896760    0.00    0.0000     0.0000   \n",
       "Parch        418.0     0.392344    0.981429    0.00    0.0000     0.0000   \n",
       "Fare         417.0    35.627188   55.907576    0.00    7.8958    14.4542   \n",
       "\n",
       "                 75%        max  \n",
       "PassengerId  1204.75  1309.0000  \n",
       "Pclass          3.00     3.0000  \n",
       "Age            39.00    76.0000  \n",
       "SibSp           1.00     8.0000  \n",
       "Parch           0.00     9.0000  \n",
       "Fare           31.50   512.3292  "
      ]
     },
     "execution_count": 243,
     "metadata": {},
     "output_type": "execute_result"
    }
   ],
   "source": [
    "# analisando dados estatísticos\n",
    "teste.describe().T"
   ]
  },
  {
   "cell_type": "code",
   "execution_count": 244,
   "id": "5756c3b0",
   "metadata": {},
   "outputs": [
    {
     "data": {
      "text/plain": [
       "PassengerId     0.00\n",
       "Pclass          0.00\n",
       "Name            0.00\n",
       "Sex             0.00\n",
       "Age            20.57\n",
       "SibSp           0.00\n",
       "Parch           0.00\n",
       "Ticket          0.00\n",
       "Fare            0.24\n",
       "Cabin          78.23\n",
       "Embarked        0.00\n",
       "dtype: float64"
      ]
     },
     "execution_count": 244,
     "metadata": {},
     "output_type": "execute_result"
    }
   ],
   "source": [
    "# Verificando porcentagem de valores ausentes\n",
    "round(teste.isnull().mean()*100,2)"
   ]
  },
  {
   "cell_type": "markdown",
   "id": "f6ddce70",
   "metadata": {},
   "source": [
    "## Visualização dos dados"
   ]
  },
  {
   "cell_type": "code",
   "execution_count": 245,
   "id": "706dfe18",
   "metadata": {},
   "outputs": [
    {
     "data": {
      "text/html": [
       "<div>\n",
       "<style scoped>\n",
       "    .dataframe tbody tr th:only-of-type {\n",
       "        vertical-align: middle;\n",
       "    }\n",
       "\n",
       "    .dataframe tbody tr th {\n",
       "        vertical-align: top;\n",
       "    }\n",
       "\n",
       "    .dataframe thead th {\n",
       "        text-align: right;\n",
       "    }\n",
       "</style>\n",
       "<table border=\"1\" class=\"dataframe\">\n",
       "  <thead>\n",
       "    <tr style=\"text-align: right;\">\n",
       "      <th></th>\n",
       "      <th>Pclass</th>\n",
       "      <th>Survived</th>\n",
       "    </tr>\n",
       "  </thead>\n",
       "  <tbody>\n",
       "    <tr>\n",
       "      <th>0</th>\n",
       "      <td>1</td>\n",
       "      <td>0.629630</td>\n",
       "    </tr>\n",
       "    <tr>\n",
       "      <th>1</th>\n",
       "      <td>2</td>\n",
       "      <td>0.472826</td>\n",
       "    </tr>\n",
       "    <tr>\n",
       "      <th>2</th>\n",
       "      <td>3</td>\n",
       "      <td>0.242363</td>\n",
       "    </tr>\n",
       "  </tbody>\n",
       "</table>\n",
       "</div>"
      ],
      "text/plain": [
       "   Pclass  Survived\n",
       "0       1  0.629630\n",
       "1       2  0.472826\n",
       "2       3  0.242363"
      ]
     },
     "execution_count": 245,
     "metadata": {},
     "output_type": "execute_result"
    }
   ],
   "source": [
    "aggregated_data = treino[['Pclass', 'Survived']].groupby(['Pclass'], as_index=False).mean().sort_values(by='Survived', ascending=False)\n",
    "aggregated_data"
   ]
  },
  {
   "cell_type": "code",
   "execution_count": 246,
   "id": "8cb2b76e",
   "metadata": {},
   "outputs": [
    {
     "data": {
      "image/png": "[encoded data removed]",
      "text/plain": [
       "<Figure size 576x432 with 1 Axes>"
      ]
     },
     "metadata": {},
     "output_type": "display_data"
    }
   ],
   "source": [
    "plt.figure(figsize=(8, 6))\n",
    "sns.barplot(data=aggregated_data, x='Pclass', y='Survived', palette='viridis')\n",
    "plt.xlabel('Classe')\n",
    "plt.ylabel('Taxa de Sobrevivência')\n",
    "plt.title('Taxa de Sobrevivência por Classe')\n",
    "plt.show()"
   ]
  },
  {
   "cell_type": "code",
   "execution_count": 247,
   "id": "1d2c4f41",
   "metadata": {},
   "outputs": [
    {
     "data": {
      "text/html": [
       "<div>\n",
       "<style scoped>\n",
       "    .dataframe tbody tr th:only-of-type {\n",
       "        vertical-align: middle;\n",
       "    }\n",
       "\n",
       "    .dataframe tbody tr th {\n",
       "        vertical-align: top;\n",
       "    }\n",
       "\n",
       "    .dataframe thead th {\n",
       "        text-align: right;\n",
       "    }\n",
       "</style>\n",
       "<table border=\"1\" class=\"dataframe\">\n",
       "  <thead>\n",
       "    <tr style=\"text-align: right;\">\n",
       "      <th></th>\n",
       "      <th>Sex</th>\n",
       "      <th>Survived</th>\n",
       "    </tr>\n",
       "  </thead>\n",
       "  <tbody>\n",
       "    <tr>\n",
       "      <th>0</th>\n",
       "      <td>female</td>\n",
       "      <td>0.742038</td>\n",
       "    </tr>\n",
       "    <tr>\n",
       "      <th>1</th>\n",
       "      <td>male</td>\n",
       "      <td>0.188908</td>\n",
       "    </tr>\n",
       "  </tbody>\n",
       "</table>\n",
       "</div>"
      ],
      "text/plain": [
       "      Sex  Survived\n",
       "0  female  0.742038\n",
       "1    male  0.188908"
      ]
     },
     "execution_count": 247,
     "metadata": {},
     "output_type": "execute_result"
    }
   ],
   "source": [
    "aggregated_data = treino[[\"Sex\", \"Survived\"]].groupby(['Sex'], as_index=False).mean().sort_values(by='Survived', ascending=False)\n",
    "aggregated_data"
   ]
  },
  {
   "cell_type": "code",
   "execution_count": 248,
   "id": "76da53a3",
   "metadata": {},
   "outputs": [
    {
     "data": {
      "image/png": "[encoded data removed]",
      "text/plain": [
       "<Figure size 400x400 with 1 Axes>"
      ]
     },
     "metadata": {},
     "output_type": "display_data"
    }
   ],
   "source": [
    "\n",
    "plt.figure(figsize=(2, 2), dpi=200) \n",
    "mylabels = [\"Feminino\", \"Masculino\"]\n",
    "plt.pie(aggregated_data['Survived'], labels=mylabels, autopct='%1.1f%%', textprops={'fontsize': 6})\n",
    "plt.title('Proporção dos Gêneros', fontsize=10)\n",
    "plt.show()\n"
   ]
  },
  {
   "cell_type": "code",
   "execution_count": 249,
   "id": "34105c09",
   "metadata": {},
   "outputs": [
    {
     "data": {
      "image/png": "[encoded data removed]",
      "text/plain": [
       "<Figure size 576x288 with 1 Axes>"
      ]
     },
     "metadata": {},
     "output_type": "display_data"
    }
   ],
   "source": [
    "plt.figure(figsize=(8, 4))\n",
    "sns.scatterplot(data=treino, x='Age', y='Fare', hue='Survived')\n",
    "plt.xlabel('Idade')\n",
    "plt.ylabel('Valor da Passagem')\n",
    "plt.title('Taxa de Sobrevivência por Valor da Passagem')\n",
    "plt.show()"
   ]
  },
  {
   "cell_type": "markdown",
   "id": "8e81585a",
   "metadata": {},
   "source": [
    "Como já observado anteriormente, o valor da passagem está relacionado com a sobrevivência, havendo uma tendência de maior probabilidade de sobrevivência caso haja um pagamento mais elevado."
   ]
  },
  {
   "cell_type": "code",
   "execution_count": 250,
   "id": "f9236819",
   "metadata": {},
   "outputs": [
    {
     "data": {
      "image/png": "[encoded data removed]",
      "text/plain": [
       "<Figure size 576x288 with 1 Axes>"
      ]
     },
     "metadata": {},
     "output_type": "display_data"
    }
   ],
   "source": [
    "plt.figure(figsize=(8, 4))\n",
    "sns.histplot(data=treino, x='Age', hue='Survived', hue_order=[1,0])\n",
    "plt.legend(title='Sobrevivente', labels=['Não Sobreviveu', 'Sobreviveu'])\n",
    "plt.xlabel('Idade')\n",
    "plt.ylabel('Contagem')\n",
    "plt.title('Distribuição de Idade por Sobrevivência')\n",
    "plt.show()"
   ]
  },
  {
   "cell_type": "code",
   "execution_count": 251,
   "id": "bc02bfed",
   "metadata": {},
   "outputs": [
    {
     "data": {
      "image/png": "[encoded data removed]",
      "text/plain": [
       "<Figure size 576x288 with 1 Axes>"
      ]
     },
     "metadata": {},
     "output_type": "display_data"
    }
   ],
   "source": [
    "plt.figure(figsize=(8, 4))\n",
    "sns.histplot(data=treino, x='Fare')\n",
    "plt.show()"
   ]
  },
  {
   "cell_type": "code",
   "execution_count": 252,
   "id": "936a010c",
   "metadata": {},
   "outputs": [
    {
     "data": {
      "image/png": "[encoded data removed]",
      "text/plain": [
       "<Figure size 576x288 with 1 Axes>"
      ]
     },
     "metadata": {},
     "output_type": "display_data"
    }
   ],
   "source": [
    "plt.figure(figsize=(8, 4))\n",
    "aggregated_data = treino[treino.Age <=10].groupby(['Age'], as_index=False).mean()\n",
    "sns.barplot(data=aggregated_data, x=aggregated_data.index, y='Survived')\n",
    "plt.xlabel('Idade')\n",
    "plt.ylabel('Prob. Sobrevivência')\n",
    "plt.show()"
   ]
  },
  {
   "cell_type": "code",
   "execution_count": 253,
   "id": "a71f6433",
   "metadata": {},
   "outputs": [
    {
     "data": {
      "image/png": "[encoded data removed]",
      "text/plain": [
       "<Figure size 576x288 with 1 Axes>"
      ]
     },
     "metadata": {},
     "output_type": "display_data"
    }
   ],
   "source": [
    "plt.figure(figsize=(8, 4))\n",
    "sns.violinplot(data=treino, x='Fare')\n",
    "plt.show()"
   ]
  },
  {
   "cell_type": "code",
   "execution_count": 254,
   "id": "23524de2",
   "metadata": {},
   "outputs": [
    {
     "data": {
      "text/plain": [
       "(0.0, 100.0)"
      ]
     },
     "execution_count": 254,
     "metadata": {},
     "output_type": "execute_result"
    },
    {
     "data": {
      "image/png": "[encoded data removed]",
      "text/plain": [
       "<Figure size 576x288 with 1 Axes>"
      ]
     },
     "metadata": {},
     "output_type": "display_data"
    }
   ],
   "source": [
    "plt.figure(figsize=(8, 4))\n",
    "sns.boxplot(data=treino, x='Age', y='Sex', orient='h')\n",
    "plt.xlabel('Idade')\n",
    "plt.ylabel('Gênero')\n",
    "plt.title('Distribuição de Idade por Gênero')\n",
    "plt.xlim(0, 100)"
   ]
  },
  {
   "cell_type": "markdown",
   "id": "ebdc6e63",
   "metadata": {},
   "source": [
    "Podemos observar o seguinte padrão de sobrevivência com base na análise dos dados:\n",
    "- Bebês (idade <= 4) apresentaram uma alta taxa de sobrevivência.\n",
    "- Houve um número significativo de jovens entre 15 e 30 anos que não sobreviveram.\n",
    "- A faixa etária mais comum entre os passageiros situa-se entre 18 e 39 anos."
   ]
  },
  {
   "cell_type": "code",
   "execution_count": 255,
   "id": "73d6ed05",
   "metadata": {},
   "outputs": [
    {
     "data": {
      "image/png": "[encoded data removed]",
      "text/plain": [
       "<Figure size 504.825x648 with 6 Axes>"
      ]
     },
     "metadata": {},
     "output_type": "display_data"
    }
   ],
   "source": [
    "grid = sns.FacetGrid(treino, col='Survived', row='Pclass', hue='Survived')\n",
    "grid.map(plt.hist, 'Age', alpha=.5, bins=15)\n",
    "grid.add_legend()\n",
    "plt.show()"
   ]
  },
  {
   "cell_type": "markdown",
   "id": "b1f70ce8",
   "metadata": {},
   "source": [
    "# Analise mais detalhada"
   ]
  },
  {
   "cell_type": "markdown",
   "id": "e1d95a6e",
   "metadata": {},
   "source": [
    "Estamos empenhados em tornar nossos dados mais realistas. Durante a tragédia, mulheres e crianças foram consideradas prioridades, e sabemos que cada mulher casada, possui um título. Portanto, podemos extrair essas informações da coluna `nome`, que até então não havíamos levado em consideração.\n",
    "\n",
    "- `mr` -> Senhor (usado para homens casados)\n",
    "- `mrs` -> Senhora  (usado para mulheres casadas)\n",
    "- `miss` -> Srta. / Senhorita\n",
    "- `master` -> Senhor (usado para um jovem)\n",
    "- `don` -> Dom\n",
    "- `rev` -> Reverendo\n",
    "- `dr` -> Doutor\n",
    "- `mme` -> Madame (equivalente a Senhora em francês)\n",
    "- `ms` -> Senhorita / Senhora (usado como forma neutra de tratamento)\n",
    "- `major` -> Major (grau militar)\n",
    "- `lady` -> Dama / Senhora\n",
    "- `sir` -> Senhor / Cavaleiro\n",
    "- `mlle` -> Mademoiselle (equivalente a Senhorita em francês)\n",
    "- `col` -> Coronel (grau militar)\n",
    "- `capt` -> Capitão (grau militar)\n",
    "- `the countess` -> Condessa\n",
    "- `jonkheer` -> Título nobiliárquico da Baixa Saxônia, Holanda e Bélgica (equivalente a nobre)."
   ]
  },
  {
   "cell_type": "code",
   "execution_count": 256,
   "id": "f8977734",
   "metadata": {},
   "outputs": [],
   "source": [
    "treino_filtrado = treino.copy()\n",
    "teste_filtrado = teste.copy()"
   ]
  },
  {
   "cell_type": "code",
   "execution_count": 257,
   "id": "dadd8b74",
   "metadata": {},
   "outputs": [],
   "source": [
    "# Função para extrair o titulo de cada nome\n",
    "def extrair_titulo(df):\n",
    "    df['Titulo'] = df.Name.apply(lambda x: x.split(',')[1].split('.')[0].strip().lower())"
   ]
  },
  {
   "cell_type": "markdown",
   "id": "1fa5d954",
   "metadata": {},
   "source": [
    "Além disso, podemos agrupar alguns títulos, como 'mlle', que é equivalente a 'miss', assim como 'ms'. Quanto aos outros títulos de patente, como 'doutor' e 'coronel', podemos tratá-los como casos raros."
   ]
  },
  {
   "cell_type": "code",
   "execution_count": 258,
   "id": "178b8e0e",
   "metadata": {},
   "outputs": [],
   "source": [
    "data = [treino_filtrado, teste_filtrado]\n",
    "\n",
    "# Crie uma instância do LabelEncoder\n",
    "label_encoder = LabelEncoder()\n",
    "titulo = {\"mr\": 1, \"miss\": 2, \"mrs\": 3, \"master\": 4, \"raro\": 5}\n",
    "\n",
    "for dataset in data:\n",
    "    # Extraindo os titulos dos nomes\n",
    "    extrair_titulo(dataset)\n",
    "    \n",
    "    # Substituindo os títulos por um título mais comum ou como Raro\n",
    "    dataset['Titulo'] = dataset['Titulo'].replace('mlle', 'miss')\n",
    "    dataset['Titulo'] = dataset['Titulo'].replace('ms', 'miss')\n",
    "    dataset['Titulo'] = dataset['Titulo'].replace('mme', 'mrs')\n",
    "    dataset['Titulo'] = dataset['Titulo'].replace(['lady', 'the countess', 'countess','capt', 'col','don', 'dr', 'major', 'rev', 'sir', 'jonkheer', 'dona'], 'raro')\n",
    "    \n",
    "    # Usar o LabelEncoder para converter títulos em números\n",
    "#     dataset['Titulo'] = label_encoder.fit_transform(dataset['Titulo'])\n",
    "    dataset['Titulo'] = dataset['Titulo'].map(titulo)\n",
    "    \n",
    "    dataset.drop(['Name'], axis=1, inplace=True)"
   ]
  },
  {
   "cell_type": "code",
   "execution_count": 259,
   "id": "83f08e2a",
   "metadata": {},
   "outputs": [],
   "source": [
    "# treino_filtrado = pd.get_dummies(treino_filtrado, columns=['Titulo'])\n",
    "# teste_filtrado = pd.get_dummies(teste_filtrado, columns=['Titulo'])  \n",
    "\n",
    "# data = [treino_filtrado, teste_filtrado]"
   ]
  },
  {
   "cell_type": "markdown",
   "id": "82078005",
   "metadata": {},
   "source": [
    "## Dados Ausentes"
   ]
  },
  {
   "cell_type": "markdown",
   "id": "ce5f4ee6",
   "metadata": {},
   "source": [
    "### Pré-processamento dos dados"
   ]
  },
  {
   "cell_type": "markdown",
   "id": "01c0e82a",
   "metadata": {},
   "source": [
    "#### Idade"
   ]
  },
  {
   "cell_type": "markdown",
   "id": "ecf8de0b",
   "metadata": {},
   "source": [
    "Vamos continuar com a média das idades para preencher os dados ausentes."
   ]
  },
  {
   "cell_type": "code",
   "execution_count": 260,
   "id": "c6162488",
   "metadata": {},
   "outputs": [],
   "source": [
    "for dataset in data:\n",
    "    dataset.loc[dataset.Age.isnull(), 'Age'] = dataset.Age.mean()\n",
    "    dataset['Age'] = dataset.Age.astype(int)"
   ]
  },
  {
   "cell_type": "code",
   "execution_count": 261,
   "id": "7f694dde",
   "metadata": {},
   "outputs": [
    {
     "name": "stdout",
     "output_type": "stream",
     "text": [
      "Categoria: 0\t|\tIntervalo: (-0.001, 20.0]\n",
      "Categoria: 1\t|\tIntervalo: (20.0, 28.0]\n",
      "Categoria: 2\t|\tIntervalo: (28.0, 29.0]\n",
      "Categoria: 3\t|\tIntervalo: (29.0, 38.0]\n",
      "Categoria: 4\t|\tIntervalo: (38.0, 80.0]\n"
     ]
    }
   ],
   "source": [
    "for cat, inter in enumerate(pd.qcut(treino_filtrado.Age, 5).cat.categories):\n",
    "    print(f'Categoria: {cat}\\t|\\tIntervalo: {inter}')"
   ]
  },
  {
   "cell_type": "code",
   "execution_count": 262,
   "id": "408eb780",
   "metadata": {},
   "outputs": [],
   "source": [
    "for dataset in data:\n",
    "    dataset['Age'] = pd.qcut(dataset.Age, 5, labels=False)"
   ]
  },
  {
   "cell_type": "markdown",
   "id": "833c7579",
   "metadata": {},
   "source": [
    "#### Classe"
   ]
  },
  {
   "cell_type": "code",
   "execution_count": null,
   "id": "4c1a4504",
   "metadata": {},
   "outputs": [],
   "source": []
  },
  {
   "cell_type": "markdown",
   "id": "c49707fc",
   "metadata": {},
   "source": [
    "#### Fare e Embarked"
   ]
  },
  {
   "cell_type": "markdown",
   "id": "f1b676ff",
   "metadata": {},
   "source": [
    "Para o atributo `Fare`, só temos uma única instância ausente"
   ]
  },
  {
   "cell_type": "code",
   "execution_count": 263,
   "id": "630ee30d",
   "metadata": {},
   "outputs": [
    {
     "data": {
      "text/html": [
       "<div>\n",
       "<style scoped>\n",
       "    .dataframe tbody tr th:only-of-type {\n",
       "        vertical-align: middle;\n",
       "    }\n",
       "\n",
       "    .dataframe tbody tr th {\n",
       "        vertical-align: top;\n",
       "    }\n",
       "\n",
       "    .dataframe thead th {\n",
       "        text-align: right;\n",
       "    }\n",
       "</style>\n",
       "<table border=\"1\" class=\"dataframe\">\n",
       "  <thead>\n",
       "    <tr style=\"text-align: right;\">\n",
       "      <th></th>\n",
       "      <th>PassengerId</th>\n",
       "      <th>Pclass</th>\n",
       "      <th>Sex</th>\n",
       "      <th>Age</th>\n",
       "      <th>SibSp</th>\n",
       "      <th>Parch</th>\n",
       "      <th>Ticket</th>\n",
       "      <th>Fare</th>\n",
       "      <th>Cabin</th>\n",
       "      <th>Embarked</th>\n",
       "      <th>Titulo</th>\n",
       "    </tr>\n",
       "  </thead>\n",
       "  <tbody>\n",
       "    <tr>\n",
       "      <th>152</th>\n",
       "      <td>1044</td>\n",
       "      <td>3</td>\n",
       "      <td>male</td>\n",
       "      <td>4</td>\n",
       "      <td>0</td>\n",
       "      <td>0</td>\n",
       "      <td>3701</td>\n",
       "      <td>NaN</td>\n",
       "      <td>NaN</td>\n",
       "      <td>S</td>\n",
       "      <td>1</td>\n",
       "    </tr>\n",
       "  </tbody>\n",
       "</table>\n",
       "</div>"
      ],
      "text/plain": [
       "     PassengerId  Pclass   Sex  Age  SibSp  Parch Ticket  Fare Cabin Embarked  \\\n",
       "152         1044       3  male    4      0      0   3701   NaN   NaN        S   \n",
       "\n",
       "     Titulo  \n",
       "152       1  "
      ]
     },
     "execution_count": 263,
     "metadata": {},
     "output_type": "execute_result"
    }
   ],
   "source": [
    "teste_filtrado[teste_filtrado['Fare'].isnull()]"
   ]
  },
  {
   "cell_type": "markdown",
   "id": "27ed289a",
   "metadata": {},
   "source": [
    "Para encontrar informações semelhantes, podemos realizar uma consulta (query) considerando diversas características relevantes, tais como a classe da pessoa, o local de embarque e se ela estava acompanhada. Através desse processo, obtemos a média das pessoas com características semelhantes, o que nos permite preencher o dado faltante de forma mais precisa e confiável."
   ]
  },
  {
   "cell_type": "code",
   "execution_count": 264,
   "id": "73204544",
   "metadata": {
    "scrolled": true
   },
   "outputs": [
    {
     "data": {
      "text/plain": [
       "9.096774666666665"
      ]
     },
     "execution_count": 264,
     "metadata": {},
     "output_type": "execute_result"
    }
   ],
   "source": [
    "filtro = \"Pclass == 3 and Embarked == 'S' and SibSp == 0 and Parch == 0 and Sex == 'male'\"\n",
    "teste_filtrado.query(filtro)['Fare'].mean()"
   ]
  },
  {
   "cell_type": "code",
   "execution_count": 265,
   "id": "0b99c785",
   "metadata": {},
   "outputs": [],
   "source": [
    "# Preenchendo o valor da passagem com semelhança de passageiros\n",
    "teste_filtrado.loc[teste_filtrado.Fare.isnull(), 'Fare'] = teste_filtrado.query(filtro)['Fare'].mean()"
   ]
  },
  {
   "cell_type": "code",
   "execution_count": 266,
   "id": "c82d9cf2",
   "metadata": {},
   "outputs": [
    {
     "name": "stdout",
     "output_type": "stream",
     "text": [
      "Categoria: 0\t|\tIntervalo: (-0.001, 7.796]\n",
      "Categoria: 1\t|\tIntervalo: (7.796, 10.667]\n",
      "Categoria: 2\t|\tIntervalo: (10.667, 21.196]\n",
      "Categoria: 3\t|\tIntervalo: (21.196, 46.34]\n",
      "Categoria: 4\t|\tIntervalo: (46.34, 512.329]\n"
     ]
    }
   ],
   "source": [
    "for cat, inter in enumerate(pd.qcut(teste_filtrado.Fare, 5).cat.categories):\n",
    "    print(f'Categoria: {cat}\\t|\\tIntervalo: {inter}')"
   ]
  },
  {
   "cell_type": "code",
   "execution_count": 267,
   "id": "7b4cba4d",
   "metadata": {},
   "outputs": [],
   "source": [
    "for dataset in data:\n",
    "    dataset['Fare'] = pd.qcut(dataset.Fare, 5, labels=False)"
   ]
  },
  {
   "cell_type": "markdown",
   "id": "59d1030a",
   "metadata": {},
   "source": [
    "No caso do atributo `Embarked`, em que dispomos de informações limitadas para determinar o local de embarque do passageiro, a melhor abordagem é preencher os dados faltantes com a moda."
   ]
  },
  {
   "cell_type": "code",
   "execution_count": 268,
   "id": "5fda3944",
   "metadata": {},
   "outputs": [],
   "source": [
    "# Preenchendo Embarque com a moda\n",
    "treino_filtrado.loc[treino_filtrado.Embarked.isnull(), 'Embarked'] = treino_filtrado.Embarked.mode()[0]"
   ]
  },
  {
   "cell_type": "markdown",
   "id": "ca6706e6",
   "metadata": {},
   "source": [
    "Alem disso, temos aluns valores estranho, pessoas viajando pagando 0 dinheiros"
   ]
  },
  {
   "cell_type": "code",
   "execution_count": 269,
   "id": "25508cb6",
   "metadata": {},
   "outputs": [],
   "source": [
    "# # Calcular a média dos valores não-zero agrupados por Pclass e Sex\n",
    "# fare_mean_by_class_sex = treino_filtrado[treino_filtrado.Fare > 0].groupby(['Pclass', 'Sex','Embarked'])['Fare'].mean()\n",
    "\n",
    "# # Função para substituir os valores zero pelo valor médio correspondente\n",
    "# def replace_zero_fare(row):\n",
    "#     if row['Fare'] == 0:\n",
    "#         return fare_mean_by_class_sex[row['Pclass'], row['Sex'], row['Embarked']]\n",
    "#     return row['Fare']\n",
    "\n",
    "# # Aplicar a função para substituir os valores zero na coluna Fare\n",
    "# treino_filtrado['Fare'] = treino_filtrado.apply(replace_zero_fare, axis=1)\n",
    "# teste_filtrado['Fare'] = teste_filtrado.apply(replace_zero_fare, axis=1)"
   ]
  },
  {
   "cell_type": "code",
   "execution_count": 270,
   "id": "3f387dbc",
   "metadata": {},
   "outputs": [],
   "source": [
    "# for dataset in data:\n",
    "#     dataset['Age_Class']= dataset['Age']* dataset['Pclass']"
   ]
  },
  {
   "cell_type": "markdown",
   "id": "a3854b28",
   "metadata": {},
   "source": [
    "#### Cabines"
   ]
  },
  {
   "cell_type": "markdown",
   "id": "a89b91e9",
   "metadata": {},
   "source": [
    "As Cabinas possuem aproximadamente 77% de seus dados ausentes, então poderíamos cogitar em eliminar essa coluna, porém, pesquisando sobre as cabines do RSM Titanic, encontrei a seguinte imagem:\n",
    "\n",
    "<p align=\"center\">\n",
    "    <img src=\"image/setor_cabines.png\" alt=\"Protótipo de imagem das cabinas frontal do RSM Titanic\" width=\"300\">\n",
    "    <img src=\"image/ward_map_class.png\" alt=\"Protótipo de imagem das cabinas leterais do RSM Titanic\" width=\"400\">\n",
    "</p>"
   ]
  },
  {
   "cell_type": "markdown",
   "id": "f6d699b7",
   "metadata": {},
   "source": [
    "A maior parte das instalações e acomodações da Primeira Classe no Titanic situava-se nos conveses superiores, proporcionando aos passageiros um ambiente com menores vibrações e ruídos dos motores. O Convés `A`, assim como a maioria dos conveses `B` e `C`, era dedicado ao espaço de recreação e alojamento da Primeira Classe. Além disso, as acomodações da Primeira Classe estendiam-se por todos os níveis até o Convés `F`, garantindo aos passageiros desta classe um espaço superior em relação às outras classes a bordo.\n",
    "\n",
    "<p align=\"center\">\n",
    "    <img src=\"image/titanic_class.jpg\" width=\"1000\">\n",
    "</p>"
   ]
  },
  {
   "cell_type": "markdown",
   "id": "083dea4c",
   "metadata": {},
   "source": [
    "A partir das localizações conhecidas, podemos tentar analisar o trágico acidente que ocorreu à noite, quando grande parte dos passageiros estava em seus aposentos. Inicialmente, vamos buscar obter informações disponíveis, considerando que temos muitos dados ausentes. Podemos usar essa informação parcial como um adicional para a nossa análise. Se temos informações sobre a cabine, ótimo, podemos incluí-la. Caso não tenhamos essa informação, prosseguiremos normalmente, como se ela não estivesse disponível.\n",
    "\n",
    "Em etapas futuras, podemos tentar aplicar um modelo para prever em qual cabine o passageiro estaria, levando em consideração o valor da passagem e sua classe, buscando uma abordagem mais completa e precisa na análise."
   ]
  },
  {
   "cell_type": "code",
   "execution_count": 271,
   "id": "7987b411",
   "metadata": {},
   "outputs": [],
   "source": [
    "tratar_ausente = False\n",
    "deck = {\"A\": 1, \"B\": 2, \"C\": 3, \"D\": 4, \"E\": 5, \"F\": 6, \"G\": 7}"
   ]
  },
  {
   "cell_type": "markdown",
   "id": "71cf65a9",
   "metadata": {},
   "source": [
    "##### Substituindo os valores ausentes por Zero"
   ]
  },
  {
   "cell_type": "markdown",
   "id": "0a0e8d1b",
   "metadata": {},
   "source": [
    "Para uma ultilização simples, podemos substituir os valores ausentes por zero."
   ]
  },
  {
   "cell_type": "code",
   "execution_count": 272,
   "id": "6072123b",
   "metadata": {},
   "outputs": [],
   "source": [
    "# Extraindo as letras do conves e transformando em números\n",
    "for dataset in data:\n",
    "    dataset['Deck'] = dataset['Cabin'].str.extract(r'([a-gA-G]+)')\n",
    "    dataset['Deck'] = dataset['Deck'].map(deck)\n",
    "    dataset['Deck'] = dataset['Deck'].fillna(0)\n",
    "    dataset['Deck'] = dataset['Deck'].astype(int)\n",
    "    dataset.drop(['Cabin'], axis=1, inplace=True)"
   ]
  },
  {
   "cell_type": "markdown",
   "id": "7e4aab04",
   "metadata": {},
   "source": [
    "##### Aplicando metodo de aprendizado semi-supervisionado Co-training"
   ]
  },
  {
   "cell_type": "markdown",
   "id": "50d36c9c",
   "metadata": {},
   "source": [
    "O co-training é uma técnica de aprendizado de máquina semi-supervisionado que envolve treinar modelos usando múltiplas fontes de dados, onde cada fonte fornece uma visão diferente do problema. Essa abordagem é útil quando você tem uma grande quantidade de dados não rotulados e uma pequena quantidade de dados rotulados disponíveis."
   ]
  },
  {
   "cell_type": "code",
   "execution_count": 273,
   "id": "037bd488",
   "metadata": {},
   "outputs": [],
   "source": [
    "# # Obtendo a copia do dataset que iremos treinar\n",
    "# co_training = treino_filtrado.copy()\n",
    "\n",
    "# # Extraindo somente o convés das cabines\n",
    "# co_training['Cabin'] = co_training['Cabin'].str.extract(r'([a-gA-G]+)')"
   ]
  },
  {
   "cell_type": "code",
   "execution_count": 274,
   "id": "6ba02dc6",
   "metadata": {},
   "outputs": [],
   "source": [
    "# # Convertendo categorio em numerico\n",
    "# co_training['Sex'] = co_training.Sex.apply(lambda x: 0 if x == 'male' else 1).astype(int)\n",
    "\n",
    "# # Dividindo os dados em um conjunto rotulado e outro não rotulado\n",
    "# labeled_data = co_training[co_training['Cabin'].notnull()]\n",
    "# unlabeled_data = co_training[co_training['Cabin'].isnull()]\n",
    "\n",
    "# # Selecionando as colunas relevantes para treinamento\n",
    "# feature_columns = ['Pclass', 'Sex', 'Age', 'Fare']\n",
    "# X_labeled = labeled_data[feature_columns]\n",
    "# y_labeled = labeled_data['Cabin']\n",
    "# X_unlabeled = unlabeled_data[feature_columns]"
   ]
  },
  {
   "cell_type": "code",
   "execution_count": 275,
   "id": "d46ef73c",
   "metadata": {},
   "outputs": [],
   "source": [
    "# # Dividindo o conjunto rotulado em treinamento e validação\n",
    "# X_train, X_val, y_train, y_val = train_test_split(X_labeled, y_labeled, test_size=0.2, random_state=42)\n",
    "\n",
    "# # Criando dois modelos de árvore de decisão com diferentes conjuntos de características\n",
    "# model_1 = DecisionTreeClassifier(random_state=42)\n",
    "# model_2 = DecisionTreeClassifier(random_state=42)\n",
    "\n",
    "# # Treinando os modelos nos dados rotulados\n",
    "# model_1.fit(X_train, y_train)\n",
    "# model_2.fit(X_train[['Pclass', 'Sex']], y_train)  # Usamos duas características específicas como exemplo\n",
    "\n",
    "# # Classificando os dados não rotulados e selecionando os mais confiantes\n",
    "# unlabeled_predictions_1 = model_1.predict(X_unlabeled)\n",
    "# unlabeled_predictions_2 = model_2.predict(X_unlabeled[['Pclass', 'Sex']])"
   ]
  },
  {
   "cell_type": "code",
   "execution_count": 276,
   "id": "890addd5",
   "metadata": {},
   "outputs": [],
   "source": [
    "# confident_indices_1 = np.where(unlabeled_predictions_1 == unlabeled_predictions_2)[0]\n",
    "# confident_unlabeled_data = X_unlabeled.iloc[confident_indices_1]\n",
    "\n",
    "# # Adicionando os exemplos mais confiantes ao conjunto rotulado e treinando novamente os modelos\n",
    "# X_train = pd.concat([X_train, confident_unlabeled_data])\n",
    "# y_train = pd.concat([y_train, pd.Series(unlabeled_predictions_1[confident_indices_1])])\n",
    "\n",
    "# model_1.fit(X_train, y_train)\n",
    "# model_2.fit(X_train[['Pclass', 'Sex']], y_train)  # Usamos as mesmas características selecionadas anteriormente\n",
    "\n",
    "\n",
    "# deck = {\"A\": 1, \"B\": 2, \"C\": 3, \"D\": 4, \"E\": 5, \"F\": 6, \"G\": 7}\n",
    "# # Agora podemos usar os modelos treinados para fazer previsões em novos dados\n",
    "# for dataset in data:\n",
    "#     dataset['Sex'] = dataset.Sex.apply(lambda x: 0 if x == 'male' else 1).astype(int)\n",
    "#     dataset['Deck'] = dataset['Cabin'].str.extract(r'([a-gA-G]+)')\n",
    "#     predictions_1 = model_1.predict(dataset[feature_columns])\n",
    "#     dataset.loc[dataset['Deck'].isnull(), 'Deck'] = predictions_1[dataset['Deck'].isnull()]\n",
    "#     dataset['Deck'] = dataset['Deck'].map(deck)\n",
    "#     dataset.drop(['Cabin'], axis=1, inplace=True)\n"
   ]
  },
  {
   "cell_type": "markdown",
   "id": "848571df",
   "metadata": {},
   "source": [
    "#### Processamento"
   ]
  },
  {
   "cell_type": "markdown",
   "id": "6b273edc",
   "metadata": {},
   "source": [
    "Subistituindo as colunas X Y por se o passaseiro esta sozinho ou nao"
   ]
  },
  {
   "cell_type": "code",
   "execution_count": 277,
   "id": "e2b676f4",
   "metadata": {},
   "outputs": [],
   "source": [
    "for dataset in data:\n",
    "    dataset['Sozinho'] = dataset.apply(lambda row: 1 if (row['SibSp'] + row['Parch']) == 0 else 0, axis=1)   \n",
    "    dataset.drop(['SibSp', 'Parch'], axis=1, inplace=True)"
   ]
  },
  {
   "cell_type": "markdown",
   "id": "bf463260",
   "metadata": {},
   "source": [
    "##### Convertendo valores categóricos em numérico "
   ]
  },
  {
   "cell_type": "markdown",
   "id": "2c5963a0",
   "metadata": {},
   "source": [
    "Agora podemos converter as strings em valores numéricos, pois a maioria dos algoritmos de modelo necessitam dessa conversão.\n",
    "\n",
    "Vamos começar convertendo a coluna `Sex` em um novo recurso chamado Gênero, onde feminino = 1 e masculino = 0."
   ]
  },
  {
   "cell_type": "code",
   "execution_count": 278,
   "id": "c4eb9ea8",
   "metadata": {},
   "outputs": [],
   "source": [
    "# treino_filtrado = pd.get_dummies(treino_filtrado, columns=['Sex'])\n",
    "# teste_filtrado = pd.get_dummies(teste_filtrado, columns=['Sex'])   \n",
    "for dataset in data:\n",
    "    dataset['Sex'] = dataset.Sex.apply(lambda x: 0 if x == 'male' else 1).astype(int)"
   ]
  },
  {
   "cell_type": "markdown",
   "id": "8389a1e1",
   "metadata": {},
   "source": [
    "O mesmo iremos fazer para o `Embarked`"
   ]
  },
  {
   "cell_type": "code",
   "execution_count": 279,
   "id": "9cbc6a95",
   "metadata": {
    "code_folding": []
   },
   "outputs": [],
   "source": [
    "# treino_filtrado = pd.get_dummies(treino_filtrado, columns=['Embarked'])\n",
    "# teste_filtrado = pd.get_dummies(teste_filtrado, columns=['Embarked'])\n",
    "embarked = {'S': 1, 'C': 2, 'Q': 3}\n",
    "for dataset in data:\n",
    "    dataset.Embarked = dataset.Embarked.map(embarked).astype(int)"
   ]
  },
  {
   "cell_type": "markdown",
   "id": "1fb4ac1e",
   "metadata": {},
   "source": [
    "### Avaliação"
   ]
  },
  {
   "cell_type": "code",
   "execution_count": 280,
   "id": "2a7f8d5f",
   "metadata": {},
   "outputs": [],
   "source": [
    "# tabela_resultados = {}\n",
    "tabela_resultados = tabela_resultados if 'tabela_resultados' in locals() else {}\n",
    "\n",
    "models = {\n",
    "        'XGBooster': XGBClassifier(learning_rate=0.1, max_depth=3, n_estimators=200, min_child_weight=1),\n",
    "        'Regressão Logistica': LogisticRegression(max_iter=800, C=1.0, penalty='l1', solver='liblinear'),\n",
    "        'Árvore de decisão': DecisionTreeClassifier(max_depth=10, min_samples_leaf=1, min_samples_split=10),\n",
    "        'Perceptron': Perceptron(alpha=0.01, eta0=0.001, max_iter=1000, penalty='elasticnet', tol=0.001),\n",
    "        'Random Forest': RandomForestClassifier(n_estimators=100, max_depth=10, min_samples_split=10, min_samples_leaf=1),\n",
    "        'GradientBoostingClassifier': GradientBoostingClassifier(n_estimators=100, learning_rate=1.0, max_depth=1, random_state=0),\n",
    "#         'Support Vector Machines': SVC(C=1, degree=2, kernel='linear')\n",
    "}    \n",
    "\n",
    "def validacao(X, y):\n",
    "    kfold = StratifiedKFold(n_splits=5, shuffle=False)\n",
    "         \n",
    "    for model_name, model in models.items():\n",
    "        cv_results = cross_val_score(model, X, y, cv=kfold, scoring='accuracy')\n",
    "        media_acuracia = cv_results.mean()\n",
    "        \n",
    "        if model_name not in tabela_resultados:\n",
    "            tabela_resultados[model_name] = []\n",
    "        tabela_resultados[model_name].append(media_acuracia)\n",
    "        \n",
    "    return tabela_resultados"
   ]
  },
  {
   "cell_type": "code",
   "execution_count": 281,
   "id": "a3960313",
   "metadata": {},
   "outputs": [
    {
     "data": {
      "text/html": [
       "<div>\n",
       "<style scoped>\n",
       "    .dataframe tbody tr th:only-of-type {\n",
       "        vertical-align: middle;\n",
       "    }\n",
       "\n",
       "    .dataframe tbody tr th {\n",
       "        vertical-align: top;\n",
       "    }\n",
       "\n",
       "    .dataframe thead th {\n",
       "        text-align: right;\n",
       "    }\n",
       "</style>\n",
       "<table border=\"1\" class=\"dataframe\">\n",
       "  <thead>\n",
       "    <tr style=\"text-align: right;\">\n",
       "      <th></th>\n",
       "      <th>XGBooster</th>\n",
       "      <th>Regressão Logistica</th>\n",
       "      <th>Árvore de decisão</th>\n",
       "      <th>Perceptron</th>\n",
       "      <th>Random Forest</th>\n",
       "      <th>GradientBoostingClassifier</th>\n",
       "    </tr>\n",
       "  </thead>\n",
       "  <tbody>\n",
       "    <tr>\n",
       "      <th>0</th>\n",
       "      <td>0.837280</td>\n",
       "      <td>0.818197</td>\n",
       "      <td>0.810345</td>\n",
       "      <td>0.702473</td>\n",
       "      <td>0.832779</td>\n",
       "      <td>0.801375</td>\n",
       "    </tr>\n",
       "    <tr>\n",
       "      <th>1</th>\n",
       "      <td>0.835032</td>\n",
       "      <td>0.818197</td>\n",
       "      <td>0.812592</td>\n",
       "      <td>0.666656</td>\n",
       "      <td>0.835026</td>\n",
       "      <td>0.795769</td>\n",
       "    </tr>\n",
       "    <tr>\n",
       "      <th>2</th>\n",
       "      <td>0.831687</td>\n",
       "      <td>0.811449</td>\n",
       "      <td>0.799140</td>\n",
       "      <td>0.782261</td>\n",
       "      <td>0.831649</td>\n",
       "      <td>0.806986</td>\n",
       "    </tr>\n",
       "  </tbody>\n",
       "</table>\n",
       "</div>"
      ],
      "text/plain": [
       "   XGBooster  Regressão Logistica  Árvore de decisão  Perceptron  \\\n",
       "0   0.837280             0.818197           0.810345    0.702473   \n",
       "1   0.835032             0.818197           0.812592    0.666656   \n",
       "2   0.831687             0.811449           0.799140    0.782261   \n",
       "\n",
       "   Random Forest  GradientBoostingClassifier  \n",
       "0       0.832779                    0.801375  \n",
       "1       0.835026                    0.795769  \n",
       "2       0.831649                    0.806986  "
      ]
     },
     "execution_count": 281,
     "metadata": {},
     "output_type": "execute_result"
    }
   ],
   "source": [
    "# Código para chamar a função e exibir a tabela:\n",
    "X = treino_filtrado.drop(['PassengerId','Survived', 'Ticket'], axis=1)\n",
    "y = treino_filtrado.Survived\n",
    "\n",
    "# Chamada inicial da função\n",
    "try:\n",
    "    tabela_resultados = validacao(X, y)\n",
    "except Exception:\n",
    "    tabela_resultados = {}\n",
    "    tabela_resultados = validacao(X, y)\n",
    "\n",
    "# Mostrar a tabela atualizada\n",
    "results = pd.DataFrame(tabela_resultados)\n",
    "results"
   ]
  },
  {
   "cell_type": "markdown",
   "id": "0dba8f7b",
   "metadata": {},
   "source": [
    "## Salvando arquivo para submissão no Kaggle "
   ]
  },
  {
   "cell_type": "code",
   "execution_count": 282,
   "id": "6ffabb95",
   "metadata": {},
   "outputs": [],
   "source": [
    "X_test = teste_filtrado.drop(['PassengerId'],axis=1)\n",
    "X_test = X_test[X.columns]"
   ]
  },
  {
   "cell_type": "code",
   "execution_count": 283,
   "id": "14dddd93",
   "metadata": {},
   "outputs": [],
   "source": [
    "for model_name, model in models.items():\n",
    "    model = model.fit(X,y)\n",
    "    y_pred = model.predict(X_test)\n",
    "    df = pd.DataFrame({'PassengerId': teste_filtrado.PassengerId,'Survived': y_pred})\n",
    "    df.to_csv(f'predictions/{model_name}.csv', index=False)"
   ]
  },
  {
   "cell_type": "code",
   "execution_count": null,
   "id": "bff353e7",
   "metadata": {},
   "outputs": [],
   "source": []
  }
 ],
 "metadata": {
  "kernelspec": {
   "display_name": "Python 3 (ipykernel)",
   "language": "python",
   "name": "python3"
  },
  "language_info": {
   "codemirror_mode": {
    "name": "ipython",
    "version": 3
   },
   "file_extension": ".py",
   "mimetype": "text/x-python",
   "name": "python",
   "nbconvert_exporter": "python",
   "pygments_lexer": "ipython3",
   "version": "3.9.4"
  }
 },
 "nbformat": 4,
 "nbformat_minor": 5
}
